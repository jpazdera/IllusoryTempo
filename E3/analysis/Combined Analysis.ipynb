{
 "cells": [
  {
   "cell_type": "markdown",
   "id": "ba22997e",
   "metadata": {},
   "source": [
    "# Analysis - Combined Experiments"
   ]
  },
  {
   "cell_type": "code",
   "execution_count": null,
   "id": "e06831f0",
   "metadata": {
    "tags": []
   },
   "outputs": [],
   "source": [
    "import numpy as np\n",
    "import pandas as pd\n",
    "import seaborn as sns\n",
    "import matplotlib\n",
    "import matplotlib.pylab as plt\n",
    "import scipy.stats as ss\n",
    "\n",
    "def swap_ioi_bpm(t):\n",
    "    \"\"\"\n",
    "    Converts an interonset interval (IOI) in milliseconds to tempo in beats per minute, or\n",
    "    BPM to the corresponding IOI. Conveniently, the equation is the same to convert in either\n",
    "    direction - just divide 60000 ms by your value. Sometimes the universe is benign. :)\n",
    "    :param t: Either an interonset interval in milliseconds or a BPM value. Can also be an array\n",
    "        of these values.\n",
    "    :return: If t was an interonset interval, result will be the corresponding BPM.\n",
    "        If t was a tempo in BPM, result will be the corresponding interonset interval.\n",
    "    \"\"\"\n",
    "    return 60000 / t\n",
    "\n",
    "# Define constants\n",
    "FIGURE_PATH = './figures/'\n",
    "IOI_LEVELS = np.array([1000, 918, 843, 774, 710, 652, 599, 550, 504, 463, 425, 390, 358, 329, 302])\n",
    "IOI_BINS = [(IOI_LEVELS[3*i], IOI_LEVELS[1+3*i], IOI_LEVELS[2+3*i]) for i in range(5)]\n",
    "TEMPO_LEVELS = swap_ioi_bpm(IOI_LEVELS)\n",
    "TEMPO_BINS = [(TEMPO_LEVELS[3*i], TEMPO_LEVELS[1+3*i], TEMPO_LEVELS[2+3*i]) for i in range(5)]\n",
    "PITCH_LEVELS = [2, 3, 4, 5, 6, 7]\n",
    "LOUDNESS_LEVELS = [0, 1, 2]\n",
    "METRONOME_IOI = 550\n",
    "METRONOME_TEMPO = swap_ioi_bpm(550)\n",
    "\n",
    "# Define functions to convert between tempos and ratings\n",
    "def bpm_to_rating(bpm, referent=METRONOME_TEMPO, intercept=50, slope=50):\n",
    "    \"\"\"\n",
    "    Calculates location of any tempo in BPM on the scale used in the study. Appears\n",
    "    in the manuscript as Equation 1.\n",
    "\n",
    "    The default intercept and slope are the ground truth values, and assume 1) that a\n",
    "    score of 50 corresponds to a tempo equal to the metronome and 2) every doubling of\n",
    "    the tempo increases the score by 50. Subject-specific slopes and intercepts can be\n",
    "    passed as arguments instead to obtain r_hat (see Equation 3).\n",
    "    \"\"\"\n",
    "    return intercept + slope * np.log2(bpm / referent)\n",
    "\n",
    "def rating_to_bpm(r, referent=METRONOME_TEMPO, intercept=50, slope=50):\n",
    "    \"\"\"\n",
    "    Converts any relative tempo rating to its corresponding tempo in BPM.\n",
    "    Appears in the manuscript as Equation 2.\n",
    "\n",
    "    The default intercept and slope used in the equation are the ground truth values,\n",
    "    but subject-specific slopes and intercepts can be passed as arguments instead to\n",
    "    obtain t_hat (see Equation 4).\n",
    "    \"\"\"\n",
    "    return referent * 2 ** ((r - intercept) / slope)\n",
    "\n",
    "# Adjust matplotlib settings\n",
    "plt.rc('figure', titlesize=32)  # fontsize of the figure title\n",
    "plt.rc('axes', labelsize=28)    # fontsize of the x and y labels\n",
    "plt.rc('xtick', labelsize=23)    # fontsize of the tick labels\n",
    "plt.rc('ytick', labelsize=23)    # fontsize of the tick labels\n",
    "plt.rc('legend', fontsize=18)    # legend fontsize\n",
    "matplotlib.rcParams['axes.spines.right'] = False\n",
    "matplotlib.rcParams['axes.spines.top'] = False"
   ]
  },
  {
   "cell_type": "markdown",
   "id": "381b08ed-e000-4bac-afd8-0762631e82ea",
   "metadata": {},
   "source": [
    "## Load Experiment 1"
   ]
  },
  {
   "cell_type": "code",
   "execution_count": null,
   "id": "53c9c54b-b052-4da0-9fe0-1bf4d096a6b0",
   "metadata": {
    "tags": []
   },
   "outputs": [],
   "source": [
    "# Set file paths\n",
    "DATAFILE = '../../E1/data/response_data.csv'\n",
    "EXCFILE = '../../E1/data/excluded.txt'\n",
    "\n",
    "# Load data\n",
    "data0 = pd.read_csv(DATAFILE)\n",
    "\n",
    "# Remove excluded participants\n",
    "excluded = np.loadtxt(EXCFILE, dtype=int)\n",
    "data0 = data0[~np.isin(data0.subject, excluded)]"
   ]
  },
  {
   "cell_type": "markdown",
   "id": "bac88ecb",
   "metadata": {},
   "source": [
    "## Load Experiment 2"
   ]
  },
  {
   "cell_type": "code",
   "execution_count": null,
   "id": "db215864",
   "metadata": {
    "tags": []
   },
   "outputs": [],
   "source": [
    "# Set file paths\n",
    "DATAFILE = '../../E2/data/response_data.csv'\n",
    "EXCFILE = '../../E2/data/excluded.txt'\n",
    "\n",
    "# Load data\n",
    "data1 = pd.read_csv(DATAFILE)\n",
    "\n",
    "# Remove excluded participants\n",
    "excluded = np.loadtxt(EXCFILE, dtype=int)\n",
    "data1 = data1[~np.isin(data1.subject, excluded)]\n",
    "\n",
    "# Add 1000 to the ID numbers from E2 so they do not overlap\n",
    "data1.loc[:, 'subject'] += 1000"
   ]
  },
  {
   "cell_type": "markdown",
   "id": "efbde884",
   "metadata": {},
   "source": [
    "## Load Experiment 3"
   ]
  },
  {
   "cell_type": "code",
   "execution_count": null,
   "id": "5de75b49",
   "metadata": {
    "tags": []
   },
   "outputs": [],
   "source": [
    "# Set file paths\n",
    "DATAFILE = '../data/response_data.csv'\n",
    "EXCFILE = '../data/excluded.txt'\n",
    "\n",
    "# Load data\n",
    "data2 = pd.read_csv(DATAFILE)\n",
    "\n",
    "# Remove excluded participants\n",
    "excluded = np.loadtxt(EXCFILE, dtype=int)\n",
    "data2 = data2[~np.isin(data2.subject, excluded)]\n",
    "\n",
    "# Add 2000 to the ID numbers from E3 so they do not overlap\n",
    "data2.loc[:, 'subject'] += 2000"
   ]
  },
  {
   "cell_type": "markdown",
   "id": "f97796f3",
   "metadata": {},
   "source": [
    "## Combine data frames"
   ]
  },
  {
   "cell_type": "code",
   "execution_count": null,
   "id": "5da52a91",
   "metadata": {
    "tags": []
   },
   "outputs": [],
   "source": [
    "data = pd.concat((data0, data1, data2), axis=0, join=\"outer\", ignore_index=True)\n",
    "outliers = data.cooks > 4 / 90\n",
    "data = data[~outliers]\n",
    "print('Percent outlier data: ', np.mean(outliers) * 100)"
   ]
  },
  {
   "cell_type": "markdown",
   "id": "48b52bd0",
   "metadata": {},
   "source": [
    "# Raw Tempo Ratings"
   ]
  },
  {
   "cell_type": "code",
   "execution_count": null,
   "id": "782862c0",
   "metadata": {
    "tags": []
   },
   "outputs": [],
   "source": [
    "# Get subject averages\n",
    "subj_avg = data.groupby(['subject', 'tempo']).response.mean().reset_index()\n",
    "subj_slopes = data.groupby('subject').slope.mean().reset_index()\n",
    "subj_intercepts = data.groupby('subject').intercept.mean().reset_index()\n",
    "\n",
    "plt.figure()\n",
    "\n",
    "# Scatterplot\n",
    "ax = sns.scatterplot(x=np.log2(subj_avg.tempo), y='response', data=subj_avg, alpha=.075, color='k', s=75, zorder=1)\n",
    "\n",
    "# Individual subject fits\n",
    "for i in range(len(subj_slopes)):\n",
    "    slope = subj_slopes.iloc[i, 1]\n",
    "    intercept = subj_intercepts.iloc[i, 1]\n",
    "    plt.axline((np.log2(TEMPO_LEVELS[0]), bpm_to_rating(TEMPO_LEVELS[0], intercept=intercept, slope=slope)),\n",
    "               (np.log2(TEMPO_LEVELS[-1]), bpm_to_rating(TEMPO_LEVELS[-1], intercept=intercept, slope=slope)),\n",
    "               c='#5E6A71', ls='-', alpha=.12, zorder=0, lw=.8, label='Individual fit' if i==0 else None)\n",
    "        \n",
    "# Average of all subject fits\n",
    "inter = subj_intercepts.intercept.mean()\n",
    "slope = subj_slopes.slope.mean()\n",
    "plt.axline((np.log2(TEMPO_LEVELS[0]), bpm_to_rating(TEMPO_LEVELS[0], intercept=inter, slope=slope)),\n",
    "           (np.log2(TEMPO_LEVELS[-1]), bpm_to_rating(TEMPO_LEVELS[-1], intercept=inter, slope=slope)),\n",
    "           c='#019AFF', ls='-', alpha=1, label='Average fit', lw=4.5, zorder=2)\n",
    "\n",
    "# Ground truth line\n",
    "plt.axline((np.log2(TEMPO_LEVELS[0]), bpm_to_rating(TEMPO_LEVELS[0], intercept=50, slope=50)),\n",
    "           (np.log2(TEMPO_LEVELS[-1]), bpm_to_rating(TEMPO_LEVELS[-1], intercept=50, slope=50)),\n",
    "           c='k', ls='--', alpha=.8, label='Ground truth', lw=4.5, zorder=2)\n",
    "\n",
    "plt.xlabel('Stimulus Tempo (BPM)')\n",
    "plt.ylabel('Tempo Rating')\n",
    "plt.yticks(range(0, 101, 25))\n",
    "plt.xticks(np.log2([65, 85, 110, 140, 180]))\n",
    "ax.set_xticklabels([65, 85, 110, 140, 180], rotation=0)\n",
    "plt.xlim(np.log2(swap_ioi_bpm(1100)), np.log2(swap_ioi_bpm(275)))\n",
    "plt.ylim(-.8, 100.8)\n",
    "plt.legend()\n",
    "\n",
    "plt.gcf().set_size_inches(8, 6.5)\n",
    "plt.tight_layout()\n",
    "\n",
    "plt.gcf().savefig(FIGURE_PATH + 'raw_ratings_combined.svg')"
   ]
  },
  {
   "cell_type": "markdown",
   "id": "f3584455",
   "metadata": {},
   "source": [
    "# Illusory Tempo Effect"
   ]
  },
  {
   "cell_type": "code",
   "execution_count": null,
   "id": "0ddf0e08-9a05-4e65-99a5-971b3c4dc411",
   "metadata": {
    "tags": []
   },
   "outputs": [],
   "source": [
    "# Adjust scores using Loftus & Masson (1994) method for plotting within-subject confidence intervals\n",
    "subj_means = data.groupby(['subject', 'pitch']).mean(numeric_only=True).groupby(['subject']).mean().reset_index()\n",
    "grand_mean = subj_means.mean()\n",
    "adjusted_scores = data.copy()\n",
    "for i, subj in enumerate(subj_means.subject):\n",
    "    adjusted_scores.loc[adjusted_scores.subject == subj, 'residual'] -= subj_means.residual[i] - grand_mean.residual\n",
    "    adjusted_scores.loc[adjusted_scores.subject == subj, 'residual'] -= subj_means.residual[i] - grand_mean.residual"
   ]
  },
  {
   "cell_type": "code",
   "execution_count": null,
   "id": "afbdfe0f-ea09-4f88-b509-5d08ebe9c1ef",
   "metadata": {
    "tags": []
   },
   "outputs": [],
   "source": [
    "plt.figure()\n",
    "sns.lineplot(x='pitch', y='illusory_tempo', data=adjusted_scores, color='k', marker='',\n",
    "             err_style='bars', err_kws=dict(capsize=6, lw=3, capthick=3), lw=3, label='All')\n",
    "sns.lineplot(x='pitch', y='illusory_tempo', data=adjusted_scores[adjusted_scores.subject < 1000], color='#002c6a', marker='', ls='-.', err_style=None, lw=2, alpha=.5, label='Exp. 1')\n",
    "sns.lineplot(x='pitch', y='illusory_tempo', data=adjusted_scores[(adjusted_scores.subject > 1000) & (adjusted_scores.subject < 2000)], color='#e45171', marker='', ls='--', err_style=None, lw=2, alpha=.5, label='Exp. 2')\n",
    "sns.lineplot(x='pitch', y='illusory_tempo', data=adjusted_scores[adjusted_scores.subject > 2000], color='#341c02', marker='', ls=':', err_style=None, lw=2, alpha=.5, label='Exp. 3')\n",
    "plt.legend(loc=2)\n",
    "plt.axhline(0, ls='--', c='#5E6A71', alpha=.5)\n",
    "plt.ylim(-2, 4)\n",
    "plt.xticks(range(2, 8), ['A2\\n(110)', 'A3\\n(220)', 'A4\\n(440)', 'A5\\n(880)', 'A6\\n(1760)', 'A7\\n(3560)'])\n",
    "plt.yticks(range(-2, 5))#, ['-2%', '-1%', '0%', '+1%', '+2%', '+3%', '+4%'])\n",
    "plt.xlabel('Pitch (Hz)')\n",
    "plt.ylabel('Illusory Tempo (%)')\n",
    "plt.gcf().set_size_inches(8, 7.5)\n",
    "plt.tight_layout()\n",
    "plt.gcf().savefig(FIGURE_PATH + 'illusory_pitch_combined.svg')"
   ]
  },
  {
   "cell_type": "code",
   "execution_count": null,
   "id": "ca4abe88",
   "metadata": {
    "tags": []
   },
   "outputs": [],
   "source": [
    "plt.figure()\n",
    "sns.lineplot(x='pitch', y='residual', data=data, color='k', marker='',\n",
    "             err_style='bars', err_kws=dict(capsize=6, lw=3, capthick=3), lw=3, label='All')\n",
    "sns.lineplot(x='pitch', y='residual', data=data[data.subject < 1000], color='#002c6a', marker='', ls='-.', err_style=None, lw=2, alpha=.5, label='Exp. 1')\n",
    "sns.lineplot(x='pitch', y='residual', data=data[(data.subject > 1000) & (data.subject < 2000)], color='#e45171', marker='', ls='--', err_style=None, lw=2, alpha=.5, label='Exp. 2')\n",
    "sns.lineplot(x='pitch', y='residual', data=data[data.subject > 2000], color='#341c02', marker='', ls=':', err_style=None, lw=2, alpha=.5, label='Exp. 3')\n",
    "plt.legend(loc=2)\n",
    "plt.axhline(0, ls='--', c='#5E6A71', alpha=.5)\n",
    "plt.ylim(-2, 2)\n",
    "plt.xticks(range(2, 8), ['A2', 'A3', 'A4', 'A5', 'A6', 'A7'])\n",
    "plt.xlabel('Pitch')\n",
    "plt.ylabel('Residual Tempo Rating')\n",
    "plt.gcf().set_size_inches(8, 7.5)\n",
    "plt.tight_layout()\n",
    "plt.gcf().savefig(FIGURE_PATH + 'pitch_combined.svg')"
   ]
  },
  {
   "cell_type": "markdown",
   "id": "f9f7c30c",
   "metadata": {},
   "source": [
    "# Illusory Tempo by Tempo Range"
   ]
  },
  {
   "cell_type": "code",
   "execution_count": null,
   "id": "e762aa6a-49f3-4e9f-9b48-8a46cb73182a",
   "metadata": {
    "tags": []
   },
   "outputs": [],
   "source": [
    "# Adjust scores using Loftus & Masson (1994) method for plotting within-subject confidence intervals\n",
    "subj_means = data.groupby(['subject', 'pitch', 'tempo_range']).mean(numeric_only=True).groupby(['subject']).mean().reset_index()\n",
    "grand_mean = subj_means.mean()\n",
    "adjusted_scores = data.copy()\n",
    "for i, subj in enumerate(subj_means.subject):\n",
    "    adjusted_scores.loc[adjusted_scores.subject == subj, 'residual'] -= subj_means.residual[i] - grand_mean.residual\n",
    "    adjusted_scores.loc[adjusted_scores.subject == subj, 'residual'] -= subj_means.residual[i] - grand_mean.residual"
   ]
  },
  {
   "cell_type": "code",
   "execution_count": null,
   "id": "d727c9b2",
   "metadata": {
    "collapsed": false,
    "jupyter": {
     "outputs_hidden": false
    },
    "tags": []
   },
   "outputs": [],
   "source": [
    "plt.figure()\n",
    "\n",
    "tempo_levels = ['1000$\\endash$843 ms', '774$\\endash$652 ms', '599$\\endash$504 ms', '463$\\endash$390 ms', '358$\\endash$302 ms']\n",
    "\n",
    "for i in range(1, 6):\n",
    "    plt.subplot(1, 5, i)\n",
    "    sns.lineplot(x='pitch', y='illusory_tempo', data=adjusted_scores[adjusted_scores.tempo_range==i], color='k',\n",
    "                 marker='', err_style='bars', err_kws=dict(capsize=6, lw=3, capthick=3), lw=3)\n",
    "    plt.axhline(0, ls='--', c='#5E6A71', alpha=.5)\n",
    "    plt.title(tempo_levels[i-1], fontsize=28)\n",
    "    plt.ylim(-4, 6)\n",
    "    if i == 1:\n",
    "        plt.yticks([-4, -2, 0, 2, 4, 6], ['-4', '-2', '0', '2', '4', '6'])\n",
    "    else:\n",
    "        plt.yticks([-4, -2, 0, 2, 4, 6], [])\n",
    "    plt.xticks(range(2, 8), ['A2', 'A3', 'A4', 'A5', 'A6', 'A7'])\n",
    "    plt.xlabel('Pitch')# if i==3 else '')\n",
    "    plt.ylabel('Illusory Tempo (%)' if i==1 else '')\n",
    "\n",
    "plt.gcf().set_size_inches(20, 6)\n",
    "plt.tight_layout()\n",
    "plt.gcf().savefig(FIGURE_PATH + 'illusory_pitch_combined.svg')"
   ]
  },
  {
   "cell_type": "code",
   "execution_count": null,
   "id": "7fec7a2c-a6b1-4755-9566-ff4272425f8f",
   "metadata": {
    "pycharm": {
     "is_executing": true
    },
    "tags": []
   },
   "outputs": [],
   "source": [
    "plt.figure()\n",
    "tempo_levels = ['1000$\\endash$843 ms', '774$\\endash$652 ms', '599$\\endash$504 ms', '463$\\endash$390 ms', '358$\\endash$302 ms']\n",
    "\n",
    "for i in range(1, 6):\n",
    "    plt.subplot(1, 5, i)\n",
    "    sns.lineplot(x='pitch', y='residual', data=adjusted_scores[adjusted_scores.tempo_range==i], color='k',\n",
    "                 marker='', err_style='bars', err_kws=dict(capsize=6, lw=3, capthick=3), lw=3)\n",
    "    plt.axhline(0, ls='--', c='#5E6A71', alpha=.5)\n",
    "    plt.title(tempo_levels[i-1], fontsize=28)\n",
    "    plt.ylim(-4, 4)\n",
    "    if i > 1:\n",
    "        plt.yticks([-4, -2, 0, 2, 4], [])\n",
    "    plt.xticks(range(2, 8), ['A2', 'A3', 'A4', 'A5', 'A6', 'A7'])\n",
    "    plt.xlabel('Pitch')# if i==3 else '')\n",
    "    plt.ylabel('Residual Tempo Rating' if i==1 else '')\n",
    "\n",
    "plt.gcf().set_size_inches(20, 6)\n",
    "plt.tight_layout()\n",
    "plt.gcf().savefig(FIGURE_PATH + 'pitch_by_tempo_combined.svg')"
   ]
  },
  {
   "cell_type": "markdown",
   "id": "3c516ab1",
   "metadata": {},
   "source": [
    "# Tapping Condition"
   ]
  },
  {
   "cell_type": "code",
   "execution_count": null,
   "id": "8dd25745-86fd-465b-97af-1b4c2bfda130",
   "metadata": {
    "tags": []
   },
   "outputs": [],
   "source": [
    "# Adjust scores using Loftus & Masson (1994) method for plotting within-subject confidence intervals\n",
    "subj_means = data.groupby(['subject', 'pitch']).mean(numeric_only=True).groupby(['subject']).mean().reset_index()\n",
    "grand_mean = subj_means.mean()\n",
    "adjusted_scores = data.copy()\n",
    "for i, subj in enumerate(subj_means.subject):\n",
    "    adjusted_scores.loc[adjusted_scores.subject == subj, 'residual'] -= subj_means.residual[i] - grand_mean.residual\n",
    "    adjusted_scores.loc[adjusted_scores.subject == subj, 'residual'] -= subj_means.residual[i] - grand_mean.residual"
   ]
  },
  {
   "cell_type": "code",
   "execution_count": null,
   "id": "8d200754-4fa2-46db-8571-8f12897f22fe",
   "metadata": {
    "pycharm": {
     "is_executing": true
    },
    "tags": []
   },
   "outputs": [],
   "source": [
    "# Print tap condition counts\n",
    "print('NTI:', np.sum(data.tap_type == 0))\n",
    "print('TI-NT:', np.sum(data.tap_type == 1))\n",
    "print('TI-YT:', np.sum(data.tap_type == 2))"
   ]
  },
  {
   "cell_type": "code",
   "execution_count": null,
   "id": "1143d073",
   "metadata": {
    "collapsed": false,
    "jupyter": {
     "outputs_hidden": false
    },
    "tags": []
   },
   "outputs": [],
   "source": [
    "plt.figure()\n",
    "tap_condis = ['Non-Tapping', 'Tappping']\n",
    "tap_codes = [0, 2]\n",
    "\n",
    "for i in range(2):\n",
    "    plt.subplot(1, 2, i+1)\n",
    "    sns.lineplot(x='pitch', y='illusory_tempo', data=data[data.tap_type==tap_codes[i]], color='k',\n",
    "                 marker='', err_style='bars', err_kws=dict(capsize=6, lw=3, capthick=3), lw=3)\n",
    "    plt.axhline(0, ls='--', c='#5E6A71', alpha=.5)\n",
    "    plt.title(tap_condis[i], fontsize=28)\n",
    "    plt.xlabel('Pitch')\n",
    "    plt.ylabel('Illusory Tempo (%)' if i==0 else '')\n",
    "    plt.xticks(range(2, 8), ['A2\\n(110)', 'A3\\n(220)', 'A4\\n(440)', 'A5\\n(880)', 'A6\\n(1760)', 'A7\\n(3560)'])\n",
    "    plt.yticks(range(-2, 6))#, ['-2%', '-1%', '0%', '+1%', '+2%', '+3%', '+4%', '+5%'])\n",
    "    plt.ylim(-2, 5)\n",
    "\n",
    "plt.gcf().set_size_inches(15, 7.5)\n",
    "plt.tight_layout()\n",
    "plt.gcf().savefig(FIGURE_PATH + 'illusory_pitch_tap_combined.svg')"
   ]
  },
  {
   "cell_type": "code",
   "execution_count": null,
   "id": "f7ecc51d",
   "metadata": {
    "tags": []
   },
   "outputs": [],
   "source": [
    "plt.figure()\n",
    "tap_condis = ['NTI', 'TI-NT', 'TI-YT']\n",
    "\n",
    "for i in range(3):\n",
    "    plt.subplot(1, 3, i+1)\n",
    "    sns.lineplot(x='pitch', y='residual', data=data[data.tap_type==i], color='k', \n",
    "                 marker='', err_style='bars', err_kws=dict(capsize=6, lw=3, capthick=3), lw=3)\n",
    "    plt.axhline(0, ls='--', c='#5E6A71', alpha=.5)\n",
    "    plt.title(tap_condis[i], fontsize=28)\n",
    "    plt.xlabel('Pitch')\n",
    "    plt.ylabel('Residual Tempo Rating' if i==0 else '')\n",
    "    plt.xticks(range(2, 8), ['A2', 'A3', 'A4', 'A5', 'A6', 'A7'])\n",
    "    plt.ylim(-3, 3)\n",
    "        \n",
    "plt.gcf().set_size_inches(19, 6)\n",
    "plt.tight_layout()\n",
    "plt.gcf().savefig(FIGURE_PATH + 'pitch_tap_combined.svg')"
   ]
  },
  {
   "cell_type": "markdown",
   "id": "eef8a122",
   "metadata": {},
   "source": [
    "# Survey Analysis\n",
    "\n",
    "Please note that in order to preserve participant privacy, survey responses have not been made open access. Please contact the authors for access to data regarding demographics and musical experience."
   ]
  },
  {
   "cell_type": "code",
   "execution_count": null,
   "id": "e9b034f2",
   "metadata": {
    "collapsed": false,
    "jupyter": {
     "outputs_hidden": false
    },
    "tags": []
   },
   "outputs": [],
   "source": [
    "SURVFILE1 = '../../E1/data/survey_responses.csv'\n",
    "SURVFILE2 = '../../E2/data/survey_responses.csv'\n",
    "SURVFILE3 = '../data/survey_responses.csv'\n",
    "\n",
    "subj_list = data.subject.unique()\n",
    "for i, survey_file in enumerate((SURVFILE1, SURVFILE2, SURVFILE3)):\n",
    "\n",
    "    # Find participants from current experiment and revert their adjusted unique ID to their original ID\n",
    "    print('EXPERIMENT %i' % (i + 1))\n",
    "    exp_subj_list = subj_list[(subj_list >= i * 1000) & (subj_list < (i + 1)*1000)]\n",
    "    exp_subj_list -= i * 1000\n",
    "\n",
    "    # Load survey data and rename ID to subject\n",
    "    surv = pd.read_csv(survey_file)\n",
    "    surv.rename(columns={'id':'subject'}, inplace=True)\n",
    "\n",
    "    # Select only survey responses from participants included in analyses\n",
    "    surv = surv[np.in1d(surv.subject, exp_subj_list)]\n",
    "    surv.reset_index()\n",
    "\n",
    "    # Add column indicating which tapping instructions the person received\n",
    "    surv['tap_condition'] = np.array([data[data.subject == s + (i * 1000)].tap_condition.iloc[0] for s in surv.subject])\n",
    "\n",
    "    # Clean up age and gender responses\n",
    "    gender_map = {\n",
    "        'M': 0,\n",
    "        'MALE': 0,\n",
    "        'F': 1,\n",
    "        'FEMALE': 1,\n",
    "        'FEMALE1': 1,\n",
    "        'FEMALE.': 1,\n",
    "        'FEMALW': 1\n",
    "    }\n",
    "    surv.sex = np.array([gender_map[s.upper().strip()] for s in surv.sex], dtype=bool)\n",
    "    surv.age = [int(''.join(i for i in x if i.isdigit())) for x in surv.age] if i >= 1 else surv.age\n",
    "\n",
    "    # Print age stats\n",
    "    print('Minimum Age:', surv.age.min())\n",
    "    print('Maximum Age:', surv.age.max())\n",
    "    print('Mean Age:', surv.age.mean())\n",
    "    print('StdDev Age:', surv.age.std())\n",
    "\n",
    "    # Print gender stats\n",
    "    print('Number of Males:', np.sum(surv.sex == 0))\n",
    "    print('Number of Females:', np.sum(surv.sex == 1))\n",
    "    print('Number of No-Tap Females:', np.sum((surv.sex == 1) & (surv.tap_condition == 0)))\n",
    "    print('Number of Tap Females:', np.sum((surv.sex == 1) & (surv.tap_condition == 1)))"
   ]
  },
  {
   "cell_type": "code",
   "execution_count": null,
   "id": "3d210400-b194-405b-81c7-744a732a423c",
   "metadata": {},
   "outputs": [],
   "source": []
  }
 ],
 "metadata": {
  "kernelspec": {
   "display_name": "Python 3 (ipykernel)",
   "language": "python",
   "name": "python3"
  },
  "language_info": {
   "codemirror_mode": {
    "name": "ipython",
    "version": 3
   },
   "file_extension": ".py",
   "mimetype": "text/x-python",
   "name": "python",
   "nbconvert_exporter": "python",
   "pygments_lexer": "ipython3",
   "version": "3.10.11"
  }
 },
 "nbformat": 4,
 "nbformat_minor": 5
}
