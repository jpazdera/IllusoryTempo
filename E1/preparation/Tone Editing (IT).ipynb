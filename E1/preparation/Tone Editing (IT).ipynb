{
 "cells": [
  {
   "cell_type": "code",
   "execution_count": null,
   "metadata": {},
   "outputs": [],
   "source": [
    "import numpy as np\n",
    "import librosa as lba\n",
    "import pyloudnorm as pyln\n",
    "\n",
    "tone_duration = 200\n",
    "fade_duration = 10"
   ]
  },
  {
   "cell_type": "markdown",
   "metadata": {},
   "source": [
    "# Split"
   ]
  },
  {
   "cell_type": "code",
   "execution_count": null,
   "metadata": {},
   "outputs": [],
   "source": [
    "audio, sr = lba.load('../stimuli/tones/tones.wav', sr=None, mono=True)\n",
    "inds = lba.effects.split(audio)\n",
    "print(inds / sr)"
   ]
  },
  {
   "cell_type": "code",
   "execution_count": null,
   "metadata": {},
   "outputs": [],
   "source": [
    "audio, sr = lba.load('../stimuli/tones/tones.wav', sr=None, mono=True)\n",
    "\n",
    "inds = lba.effects.split(audio)\n",
    "tone1 = audio[inds[0, 0]:inds[0, 1]]\n",
    "tone2 = audio[inds[1, 0]:inds[1, 1]]\n",
    "tone3 = audio[inds[2, 0]:inds[2, 1]]\n",
    "tone4 = audio[inds[3, 0]:inds[3, 1]]\n",
    "tone5 = audio[inds[5, 0]:inds[5, 1]]\n",
    "tone6 = audio[inds[6, 0]:inds[6, 1]]\n",
    "tone7 = audio[inds[9, 0]:inds[9, 1]]\n",
    "midtone = audio[inds[13, 0]:inds[13, 1]]\n",
    "\n",
    "stim_length = int(tone_duration * sr / 1000.)\n",
    "fade_length = int(fade_duration * sr / 1000.)\n",
    "threshold = .001\n",
    "for i, tone in enumerate((tone1, tone2, tone3, tone4, tone5, tone6, tone7)):\n",
    "    start = np.where(np.abs(tone) > threshold)[0][0]\n",
    "    tone = np.copy(tone[start:start+stim_length])\n",
    "    tone[-fade_length:] *= np.linspace(1, 0, fade_length)\n",
    "    lba.output.write_wav('../stimuli/tones/pianoA%i.wav' % (i+1), tone, sr)\n",
    "\n",
    "start = np.where(np.abs(midtone) > threshold)[0][0]\n",
    "midtone = midtone[start:start+stim_length]\n",
    "midtone[-fade_length:] *= np.linspace(1, 0, fade_length)\n",
    "lba.output.write_wav('../stimuli/tones/pianoD#5.wav', midtone, sr)"
   ]
  },
  {
   "cell_type": "markdown",
   "metadata": {},
   "source": [
    "# Balancing"
   ]
  },
  {
   "cell_type": "code",
   "execution_count": null,
   "metadata": {},
   "outputs": [],
   "source": [
    "for octave in range(1, 8):\n",
    "    print(octave)\n",
    "    tone, sr = lba.load('../stimuli/tones/pianoA%i.wav' % octave, sr=None)\n",
    "    meter = pyln.Meter(sr, block_size=.001, filter_class=\"K-weighting\")\n",
    "    loudness = meter.integrated_loudness(tone)\n",
    "    for lkfs in (-13, -16, -19):\n",
    "        normed_tone = pyln.normalize.loudness(tone, loudness, lkfs)\n",
    "        lba.output.write_wav('../stimuli/tones/normA%i%slkfs.wav' % (octave, lkfs), normed_tone, sr)\n",
    "\n",
    "print('Midtone')\n",
    "tone, sr = lba.load('../stimuli/tones/pianoD#5.wav', sr=None)\n",
    "meter = pyln.Meter(sr, block_size=.001, filter_class=\"K-weighting\")\n",
    "loudness = meter.integrated_loudness(tone)\n",
    "for lkfs in (-13, -16, -19):\n",
    "    normed_tone = pyln.normalize.loudness(tone, loudness, lkfs)\n",
    "    lba.output.write_wav('../stimuli/tones/normD#5%slkfs.wav' % lkfs, normed_tone, sr)"
   ]
  },
  {
   "cell_type": "markdown",
   "metadata": {},
   "source": [
    "# Sequence Creation"
   ]
  },
  {
   "cell_type": "code",
   "execution_count": null,
   "metadata": {},
   "outputs": [],
   "source": [
    "### Main Sequences ###\n",
    "lkfs = [-13, -16, -19]\n",
    "octaves = [2, 3, 4, 5, 6, 7]\n",
    "iois = [1000, 918, 843,\n",
    "        774, 710, 652,\n",
    "        599, 550, 504,\n",
    "        463, 425, 390,\n",
    "        358, 329, 302]\n",
    "\n",
    "for lu in lkfs:\n",
    "    for octave in octaves:\n",
    "        # Load tone of current octave\n",
    "        tone, sr = lba.load('../stimuli/tones/normA%i%ilkfs.wav' % (octave, lu), sr=None)\n",
    "        for ioi in iois:\n",
    "\n",
    "            # Create array of appropriate length to hold audio sequence\n",
    "            ms_ioi = ioi / 1000.\n",
    "            sequence = np.zeros(int(np.ceil(8 * ms_ioi * sr)), dtype=np.float32)\n",
    "\n",
    "            # Insert tones at appropriate locations\n",
    "            for i in range(5):\n",
    "                tone_start = int(np.ceil(i * ms_ioi * sr))\n",
    "                tone_end = tone_start + tone.shape[0]\n",
    "                sequence[tone_start:tone_end] = tone\n",
    "\n",
    "            # Cut silence from the end of the sequence\n",
    "            sequence = np.trim_zeros(sequence, 'b')\n",
    "\n",
    "            # Save sequence to WAV file\n",
    "            lba.output.write_wav('../stimuli/sequence_%i_%i_%i.wav' % (octave, ioi, abs(lu)), sequence, sr)"
   ]
  },
  {
   "cell_type": "code",
   "execution_count": null,
   "metadata": {},
   "outputs": [],
   "source": [
    "### Practice Trials ###\n",
    "tone, sr = lba.load('../stimuli/tones/normD#5-16lkfs.wav', sr=None)\n",
    "for ioi in (407, 550, 741):\n",
    "    # Create array of appropriate length to hold audio sequence\n",
    "    ms_ioi = ioi / 1000.\n",
    "    sequence = np.zeros(int(np.ceil(8 * ms_ioi * sr)), dtype=np.float32)\n",
    "\n",
    "    # Insert tones at appropriate locations\n",
    "    for i in range(5):\n",
    "        tone_start = int(np.ceil(i * ms_ioi * sr))\n",
    "        tone_end = tone_start + tone.shape[0]\n",
    "        sequence[tone_start:tone_end] = tone\n",
    "\n",
    "    # Cut silence from the end of the sequence\n",
    "    sequence = np.trim_zeros(sequence, 'b')\n",
    "\n",
    "    # Save sequence to WAV file\n",
    "    lba.output.write_wav('../stimuli/practice_sequence_%i.wav' % ioi, sequence, sr)"
   ]
  },
  {
   "cell_type": "code",
   "execution_count": null,
   "metadata": {},
   "outputs": [],
   "source": [
    "### Metronome ###\n",
    "tone, sr = lba.load('../stimuli/tones/tick.wav', sr=None)\n",
    "\n",
    "# Create array of appropriate length to hold audio sequence\n",
    "ioi = 550\n",
    "ms_ioi = ioi / 1000.\n",
    "sequence = np.zeros(int(np.ceil(8 * ms_ioi * sr)), dtype=np.float32)\n",
    "        \n",
    "# Insert tones at appropriate locations\n",
    "for i in range(5):\n",
    "    tone_start = int(np.ceil(i * ms_ioi * sr))\n",
    "    tone_end = tone_start + tone.shape[0]\n",
    "    sequence[tone_start:tone_end] = tone\n",
    "        \n",
    "# Cut silence from the end of the sequence\n",
    "sequence = np.trim_zeros(sequence, 'b')\n",
    "        \n",
    "# Save sequence to WAV file\n",
    "lba.output.write_wav('../stimuli/reference_sequence.wav', sequence, sr)"
   ]
  }
 ],
 "metadata": {
  "kernelspec": {
   "display_name": "Python 3 (ipykernel)",
   "language": "python",
   "name": "python3"
  },
  "language_info": {
   "codemirror_mode": {
    "name": "ipython",
    "version": 3
   },
   "file_extension": ".py",
   "mimetype": "text/x-python",
   "name": "python",
   "nbconvert_exporter": "python",
   "pygments_lexer": "ipython3",
   "version": "3.8.11"
  }
 },
 "nbformat": 4,
 "nbformat_minor": 4
}
