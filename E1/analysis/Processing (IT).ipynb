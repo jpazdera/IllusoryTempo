{
 "cells": [
  {
   "cell_type": "markdown",
   "id": "8b9801e1-167b-4934-a8db-e45ad4197d66",
   "metadata": {},
   "source": [
    "# Data Processing - Experiment 1: Illusory Tempo"
   ]
  },
  {
   "cell_type": "markdown",
   "id": "7ff814fc-9c07-4aa7-9164-05570959609d",
   "metadata": {
    "tags": []
   },
   "source": [
    "### Imports and Constants"
   ]
  },
  {
   "cell_type": "code",
   "execution_count": 1,
   "id": "3971efac-b78b-4bc9-8e52-654fd28d043f",
   "metadata": {},
   "outputs": [],
   "source": [
    "import numpy as np\n",
    "import pandas as pd\n",
    "import scipy.stats as ss\n",
    "import statsmodels.api as sm\n",
    "from glob import glob\n",
    "from statsmodels.stats.outliers_influence import OLSInfluence\n",
    "\n",
    "def swap_ioi_bpm(t):\n",
    "    \"\"\"\n",
    "    Converts an interonset interval (IOI) in milliseconds to tempo in beats per minute, or\n",
    "    BPM to the corresponding IOI. Conveniently, the equation is the same to convert in either\n",
    "    direction - just divide 60000 ms by your value. Sometimes the universe is benign. :)\n",
    "    :param t: Either an interonset interval in milliseconds or a BPM value. Can also be an array\n",
    "        of these values.\n",
    "    :return: If t was an interonset interval, result will be the corresponding BPM.\n",
    "        If t was a tempo in BPM, result will be the corresponding interonset interval.\n",
    "    \"\"\"\n",
    "    return 60000 / t\n",
    "\n",
    "# Define and find file paths\n",
    "DATA_PATH = '../data/'\n",
    "SAVEFILE = '../data/response_data.csv'\n",
    "TAP_SAVEFILE = '../data/tap_data.csv'\n",
    "\n",
    "# Define levels of conditions\n",
    "IOI_LEVELS = np.array([1000, 918, 843, 774, 710, 652, 599, 550, 504, 463, 425, 390, 358, 329, 302])\n",
    "IOI_BINS = [(IOI_LEVELS[3*i], IOI_LEVELS[1+3*i], IOI_LEVELS[2+3*i]) for i in range(5)]\n",
    "TEMPO_LEVELS = swap_ioi_bpm(IOI_LEVELS)\n",
    "TEMPO_BINS = [(TEMPO_LEVELS[3*i], TEMPO_LEVELS[1+3*i], TEMPO_LEVELS[2+3*i]) for i in range(5)]\n",
    "PITCH_LEVELS = [2, 3, 4, 5, 6, 7]\n",
    "LOUDNESS_LEVELS = [0, 1, 2]\n",
    "METRONOME_IOI = 550\n",
    "METRONOME_TEMPO = swap_ioi_bpm(550)\n",
    "\n",
    "# Define functions to convert between tempos and ratings\n",
    "def bpm_to_rating(bpm, referent=METRONOME_TEMPO, intercept=50, slope=50):\n",
    "    \"\"\"\n",
    "    Calculates location of any tempo in BPM on the scale used in the study. Appears\n",
    "    in the manuscript as Equations 1 and 2.\n",
    "\n",
    "    The default intercept and slope are the ground truth values, and assume 1) that a\n",
    "    score of 50 corresponds to a tempo equal to the metronome and 2) every doubling of\n",
    "    the tempo increases the score by 50. Subject-specific slopes and intercepts can be\n",
    "    passed as arguments instead to obtain r_hat.\n",
    "    \"\"\"\n",
    "    return intercept + slope * np.log2(bpm / referent)\n",
    "\n",
    "def rating_to_bpm(r, referent=METRONOME_TEMPO, intercept=50, slope=50):\n",
    "    \"\"\"\n",
    "    Converts any relative tempo rating to its corresponding tempo in BPM.\n",
    "    Appears in the manuscript as Equation 3.\n",
    "\n",
    "    The default intercept and slope used in the equation are the ground truth values,\n",
    "    but subject-specific slopes and intercepts can be passed as arguments instead to\n",
    "    obtain t_hat.\n",
    "    \"\"\"\n",
    "    return referent * 2 ** ((r - intercept) / slope)"
   ]
  },
  {
   "cell_type": "markdown",
   "id": "59bdf364-9762-48f8-93a2-aaf0ad242751",
   "metadata": {},
   "source": [
    "### Load Raw Data\n",
    "\n",
    "Pavlovia saves each person's data to a separate CSV file. Here we use glob to find all the data files. We then read each data file with Pandas, check to make sure it's a complete session (i.e., if the stimulus on the last event matches what's expected), and append it to a single dataframe containing everyone's data. For Experiment 1, we additionally have to add in whether the person was assigned to the tapping or non-tapping condition, based on the text of their instructions event."
   ]
  },
  {
   "cell_type": "code",
   "execution_count": 2,
   "id": "f22514e3-a17a-49a6-98a6-22b25f25d516",
   "metadata": {},
   "outputs": [],
   "source": [
    "datafiles = np.array(glob(DATA_PATH + 'I*.csv'))\n",
    "df = []\n",
    "for f in datafiles:\n",
    "    d = pd.read_csv(f)\n",
    "    \n",
    "    # Ensure that the session is complete (check for ending message)\n",
    "    if d.stimulus.iloc[-1].startswith('<h3>'):\n",
    "        \n",
    "        # Determine tap condition and add it to table\n",
    "        instructions = d.iloc[18]['stimulus']\n",
    "        if 'J key' in instructions:\n",
    "            d['tap_condition'] = True\n",
    "        elif 'minimum' in instructions:\n",
    "            d['tap_condition'] = False\n",
    "        else:\n",
    "            raise ValueError('Unable to determine tapping condition for participant #%s!' % good_dataset[0].subject[0])\n",
    "        \n",
    "        # Add experiment name to table\n",
    "        d['experiment'] = 'IT1'\n",
    "        df.append(d)\n",
    "\n",
    "df = pd.concat(df, ignore_index=True)"
   ]
  },
  {
   "cell_type": "markdown",
   "id": "788273fa-794b-426a-9dca-97abf4688328",
   "metadata": {
    "tags": []
   },
   "source": [
    "### Process Spontaneous Motor Tempo Task\n",
    "\n",
    "Separate out the spontaneous motor tempo task from each participant into a new tap_data data frame with one row per subject. Find the spontaneous motor tempo test by looking for the 17th event."
   ]
  },
  {
   "cell_type": "code",
   "execution_count": 3,
   "id": "4d1e98cd-fa0a-4d0e-9977-66e2a5b7f484",
   "metadata": {},
   "outputs": [],
   "source": [
    "tap_data = df.loc[df.trial_index == 17, :]\n",
    "tap_data = tap_data.rename(columns={'rt': 'tap_times'})"
   ]
  },
  {
   "cell_type": "markdown",
   "id": "2ecc6a4b-c22c-4e59-9ae6-83a12255fc34",
   "metadata": {},
   "source": [
    "Convert the lists of key presses and tap times from strings into lists of integers."
   ]
  },
  {
   "cell_type": "code",
   "execution_count": 4,
   "id": "6afb56fe-ad7b-4760-ace0-fe8bd119111d",
   "metadata": {},
   "outputs": [],
   "source": [
    "tap_data['key_press'] = [[int(y) for y in x.split(',')] \n",
    "                         if type(x) == str else x for x in tap_data.key_press]\n",
    "tap_data['tap_times'] = [[int(y) for y in x.split(',')] \n",
    "                         if type(x) == str else x for x in tap_data.tap_times]"
   ]
  },
  {
   "cell_type": "markdown",
   "id": "d9466f0f-0b29-428a-8076-2be67de77955",
   "metadata": {},
   "source": [
    "Clean invalid key presses from the spontaneous rate tapping data"
   ]
  },
  {
   "cell_type": "code",
   "execution_count": 5,
   "id": "edd07053-c7e0-42be-b956-3c360ff08089",
   "metadata": {},
   "outputs": [],
   "source": [
    "valid_key_presses = []\n",
    "valid_tap_times = []\n",
    "for i in tap_data.index:\n",
    "    if isinstance(tap_data.loc[i, 'key_press'], float):\n",
    "        if np.isnan(tap_data.loc[i, 'key_press']):\n",
    "            tap_data.loc[i, 'key_press'] = [[np.nan]]\n",
    "            tap_data.loc[i, 'tap_times'] = [[np.nan]]\n",
    "        else:\n",
    "            tap_data.loc[i, 'key_press'] = [[int(tap_data.loc[i, 'key_press'])]]\n",
    "            tap_data.loc[i, 'tap_times'] = [[int(tap_data.loc[i, 'tap_times'])]]\n",
    "    fj_mask = np.in1d(tap_data.loc[i, 'key_press'], [70, 74])\n",
    "    valid_key_presses.append(np.array(tap_data.loc[i, 'key_press'])[fj_mask])\n",
    "    valid_tap_times.append(np.array(tap_data.loc[i, 'tap_times'])[fj_mask])\n",
    "tap_data['valid_key_press'] = valid_key_presses\n",
    "tap_data['valid_tap_times'] = valid_tap_times"
   ]
  },
  {
   "cell_type": "markdown",
   "id": "b1366934-6d0e-4301-8aa5-482c1162b32b",
   "metadata": {},
   "source": [
    "Calculate median inter-tap intervals (NaN if tapped 3 or fewer times)"
   ]
  },
  {
   "cell_type": "code",
   "execution_count": 6,
   "id": "5ac092b4-f3f1-4a0a-8728-a6bf407366a3",
   "metadata": {},
   "outputs": [],
   "source": [
    "itis = np.array([np.median(np.diff(times)) if len(times) > 3 else np.nan\n",
    "                 for times in tap_data.valid_tap_times])\n",
    "tap_data['spi'] = itis\n",
    "tap_data['spr'] = swap_ioi_bpm(itis)"
   ]
  },
  {
   "cell_type": "markdown",
   "id": "e9efe92c-38d7-4a29-98cc-56bd32c301ad",
   "metadata": {},
   "source": [
    "### Process Main Task\n",
    "\n",
    "Get data frames containing only tone presentations and responses, respectively. Each trial produces one presentation event and one response event."
   ]
  },
  {
   "cell_type": "code",
   "execution_count": 7,
   "id": "ef04d5d4-f555-4d97-8ce5-0eae9b55676a",
   "metadata": {},
   "outputs": [],
   "source": [
    "pres_rows = np.where([str(s).startswith('stimuli/s') for s in df.stimulus])[0]\n",
    "pres = df.iloc[pres_rows]\n",
    "resp = df.iloc[pres_rows + 1]\n",
    "pres.reset_index(drop=True, inplace=True)\n",
    "resp.reset_index(drop=True, inplace=True)"
   ]
  },
  {
   "cell_type": "markdown",
   "id": "e953b5b0-1e35-4b78-bf01-a585f729d658",
   "metadata": {},
   "source": [
    "Next, read the stimulus file names to determine the pitch, IOI, and loudness of each trial."
   ]
  },
  {
   "cell_type": "code",
   "execution_count": 8,
   "id": "6f502ecf-cd2c-4279-aaac-23a68ea71fed",
   "metadata": {},
   "outputs": [],
   "source": [
    "pres = pres.assign(pitch=[int(s[17]) for s in pres['stimulus']],\n",
    "                   ioi=[int(s[19:-7]) for s in pres['stimulus']],\n",
    "                   loudness=[-1*int(s[-6:-4]) for s in pres['stimulus']])"
   ]
  },
  {
   "cell_type": "markdown",
   "id": "ea846872-c730-40e9-bd25-9c361604fb9a",
   "metadata": {},
   "source": [
    "Add a column containing BPM values and ground truth tempo ratings."
   ]
  },
  {
   "cell_type": "code",
   "execution_count": 9,
   "id": "3f575e69-cdb7-4b96-9df2-e904d02bdc12",
   "metadata": {},
   "outputs": [],
   "source": [
    "tempo_range_map = dict()\n",
    "for i, iois in enumerate(IOI_BINS):\n",
    "    for ioi in iois:\n",
    "        tempo_range_map[ioi] = i + 1\n",
    "pres = pres.assign(tempo_range=[tempo_range_map[ioi] for ioi in pres['ioi']])\n",
    "pres = pres.assign(tempo=[swap_ioi_bpm(ioi) for ioi in pres['ioi']])\n",
    "pres = pres.assign(true_score=bpm_to_rating(pres['tempo']))"
   ]
  },
  {
   "cell_type": "markdown",
   "id": "4ab34694-12df-4932-b85d-dc5288e48845",
   "metadata": {},
   "source": [
    "Finally, merge presentation and response data back into one data frame with a single row per trial. This will be easier to analyze than having presentation and response data on separate rows."
   ]
  },
  {
   "cell_type": "code",
   "execution_count": 10,
   "id": "dfa4cee2-762c-4b89-bc53-8e2d4c1402c5",
   "metadata": {},
   "outputs": [],
   "source": [
    "# Select columns of interest from presentation and response events\n",
    "pres = pres[['experiment', 'subject', 'pitch', 'ioi', 'tempo', 'tempo_range', 'loudness',\n",
    "             'tap_condition', 'key_press', 'rt', 'true_score']]\n",
    "resp = resp[['response', 'rt']]\n",
    "\n",
    "# Rename overlapping column name\n",
    "pres.rename(columns={'rt': 'tap_times'}, inplace=True)\n",
    "\n",
    "# Convert tapping information from strings to lists\n",
    "pres['key_press'] = [[int(y) for y in x.split(',')]\n",
    "                     if type(x) == str else x for x in pres.key_press]\n",
    "pres['tap_times'] = [[int(y) for y in x.split(',')]\n",
    "                     if type(x) == str else x for x in pres.tap_times]\n",
    "\n",
    "# Merge presentation and response data\n",
    "data = pd.merge(pres, resp, left_index=True, right_index=True)\n",
    "\n",
    "# Addd column containing the difference between the correct and actual response\n",
    "data = data.assign(error=data.response - data.true_score)"
   ]
  },
  {
   "cell_type": "markdown",
   "id": "cf33719c-e636-4c29-b43a-85573c9c8411",
   "metadata": {},
   "source": [
    "### Additional Scoring\n",
    "\n",
    "Initialize arrays for all the new columns we will be adding to the data frame. An asterisk in the comment indicates that the value is identical for all trials within a given subject; otherwise the score will vary within subjects. Scores that only have one value per participant will also be included in the tap_data dataset (which only includes one row per subject)."
   ]
  },
  {
   "cell_type": "code",
   "execution_count": 11,
   "id": "d3a99a45-5b4a-4c49-bffd-574821f4f3fc",
   "metadata": {},
   "outputs": [],
   "source": [
    "# Metadata\n",
    "block = np.zeros(len(data), dtype=int)\n",
    "trial = np.zeros(len(data), dtype=int)\n",
    "\n",
    "# Headphone test scores (*)\n",
    "test_correct = np.zeros(len(data), dtype=int)\n",
    "test_correct2 = np.zeros(len(tap_data), dtype=int)\n",
    "test_incorrect = np.zeros(len(data), dtype=int)\n",
    "test_incorrect2 = np.zeros(len(tap_data), dtype=int)\n",
    "test_skipped = np.zeros(len(data), dtype=int)\n",
    "test_skipped2 = np.zeros(len(tap_data), dtype=int)\n",
    "\n",
    "# Trials on which they answered 0, 50, or 100 (*)\n",
    "extremes = np.zeros(len(data), dtype=float)  \n",
    "extremes2 = np.zeros(len(tap_data), dtype=float)\n",
    "\n",
    "# Pearson r correlation between each person's ratings and the ground truth (*)\n",
    "corr = np.zeros(len(data), dtype=float)\n",
    "corr2 = np.zeros(len(tap_data), dtype=float)\n",
    "\n",
    "# Slope and intercept of subject-specific IOI-to-rating linear models (*)\n",
    "intercept = np.zeros(len(data), dtype=float)\n",
    "intercept2 = np.zeros(len(tap_data), dtype=float)\n",
    "slope = np.zeros(len(data), dtype=float)\n",
    "slope2 = np.zeros(len(tap_data), dtype=float)\n",
    "\n",
    "# Residual tempo rating, illusory tempo, and cook's distance for the response on each trial\n",
    "resid = np.zeros(len(data), dtype=float)\n",
    "illusory_tempo = np.zeros(len(data), dtype=float)\n",
    "cooks = np.zeros(len(data), dtype=float)"
   ]
  },
  {
   "cell_type": "markdown",
   "id": "a65237d8-e622-47e4-9c70-b276e8e36806",
   "metadata": {},
   "source": [
    "Perform a variety of data processing for each participant. Exclusion-related scoring includes marking the headphone test, counting how many times the participant gave an extreme response (0|50|100), and calculating the correlation between their responses and the actual tempo. We then fit the subject-specific models relating IOIs to raw ratings (Equation 2 in the manuscript) and calculate residual tempo ratings and illusory tempo scores for all trials (Equations 4 and 5 in the manuscript)."
   ]
  },
  {
   "cell_type": "code",
   "execution_count": 12,
   "id": "d970d2e0-e627-477c-9afd-8868b30b42d4",
   "metadata": {},
   "outputs": [],
   "source": [
    "# Define block and trial numbers (constant across participants)\n",
    "block_numbers = np.concatenate([[x for _ in range(30)] for x in range(3)])\n",
    "trial_numbers = np.arange(1, 91)\n",
    "\n",
    "# Define filter to select headphone test trials\n",
    "test_tones_mask = [str(s).startswith('headphone_check/') for s in df.stimulus]\n",
    "test_response_mask = [str(s).startswith('<p>Press the 1') for s in df.stimulus]\n",
    "\n",
    "# Calculate performance metrics and regression model for each participant\n",
    "for subj in np.unique(data.subject):\n",
    "\n",
    "    # Identify events from current subject\n",
    "    subj_mask = data.subject == subj\n",
    "    subj_mask_full = df.subject == subj\n",
    "    subj_mask_tapdata = tap_data.subject == subj\n",
    "    \n",
    "    # Label trials with the blocks they are from\n",
    "    block[subj_mask] = block_numbers\n",
    "    trial[subj_mask] = trial_numbers\n",
    "    \n",
    "    # Isolate headphone test presentation and response data\n",
    "    testpres = df.loc[subj_mask_full & test_tones_mask, :].reset_index()\n",
    "    testresp = df.loc[subj_mask_full & test_response_mask, :].reset_index()\n",
    "    \n",
    "    # Convert key codes for responses to 1, 2, and 3. Then determine whether 1, 2, or 3 was the correct answer \n",
    "    # based on the position of 'S' in the stimulus file name\n",
    "    testresp = testresp.assign(response=np.array(testresp.key_press, dtype=int) - 48,\n",
    "                              answer=[s.find('S') - 28 for s in testpres.stimulus])\n",
    "    \n",
    "    # Score headphone test trials by comparing responses to the correct answers\n",
    "    testresp = testresp.assign(correct=testresp.response == testresp.answer,\n",
    "                              incorrect=(testresp.response != testresp.answer) & (testresp.response > 0),\n",
    "                              skipped=testresp.response == 0)\n",
    "    test_correct[subj_mask] = testresp.correct.sum()\n",
    "    test_correct2[subj_mask_tapdata] = testresp.correct.sum()\n",
    "    test_incorrect[subj_mask] = testresp.incorrect.sum() \n",
    "    test_incorrect2[subj_mask_tapdata] = testresp.incorrect.sum() \n",
    "    test_skipped[subj_mask] = testresp.skipped.sum()\n",
    "    test_skipped2[subj_mask_tapdata] = testresp.skipped.sum()\n",
    "\n",
    "    # Count number of times the participant responded 0|50|100\n",
    "    score = np.sum(np.isin(data.loc[subj_mask, 'response'], (0, 50, 100)))\n",
    "    extremes[subj_mask] = score\n",
    "    extremes2[subj_mask_tapdata] = score\n",
    "\n",
    "    # Calculate correlation between participant's responses and true relative tempo\n",
    "    score = ss.pearsonr(data.loc[subj_mask, 'true_score'], data.loc[subj_mask, 'response'])[0]\n",
    "    corr[subj_mask] = score\n",
    "    corr2[subj_mask_tapdata] = score\n",
    "\n",
    "    # Fit model of how the participant mapped tempo onto the scale\n",
    "    fit = sm.OLS(data.loc[subj_mask, 'response'],\n",
    "                 sm.add_constant(np.log2(data.loc[subj_mask, 'tempo'] / METRONOME_TEMPO))).fit()\n",
    "\n",
    "    # Identify outlier trials based on Cook's distance\n",
    "    cooks[subj_mask] = OLSInfluence(fit).summary_frame().cooks_d\n",
    "\n",
    "    # Refit model without outliers\n",
    "    refit_mask = subj_mask & (cooks <= 4 / subj_mask.sum())\n",
    "    fit = sm.OLS(data.loc[refit_mask, 'response'],\n",
    "                 sm.add_constant(np.log2(data.loc[refit_mask, 'tempo'] / METRONOME_TEMPO))).fit()\n",
    "    intercept[subj_mask] = fit.params[0]\n",
    "    intercept2[subj_mask_tapdata] = fit.params[0]\n",
    "    slope[subj_mask] = fit.params[1]\n",
    "    slope2[subj_mask_tapdata] = fit.params[1]\n",
    "\n",
    "    # Use model to get expected rating for each stimulus\n",
    "    t = data.loc[subj_mask, 'tempo']\n",
    "    r = data.loc[subj_mask, 'response']\n",
    "    r_hat = bpm_to_rating(t, intercept=intercept[subj_mask], slope=slope[subj_mask])\n",
    "    #t_hat = rating_to_bpm(r, intercept=intercept[subj_mask], slope=slope[subj_mask])\n",
    "\n",
    "    # Calculate residual tempo rating and illusory tempo using r_hat\n",
    "    resid[subj_mask] = r - r_hat\n",
    "    illusory_tempo[subj_mask] = 100 * (resid[subj_mask] / slope[subj_mask]) # Equivalent to the log2 percent change in tempo, 100 * np.log2(t_hat/t)\n",
    "\n",
    "# Mark trials as tapping type NTI (0), TI-NT (1), or TI-YT (2) based on whether the participant tapped to the repeating tone\n",
    "data.loc[:, 'tapped'] = np.array([isinstance(x, (str, list)) for x in data.key_press])\n",
    "data.loc[:, 'tap_type'] = data.tap_condition.astype(int) + (data.tap_condition & data.tapped).astype(int)"
   ]
  },
  {
   "cell_type": "markdown",
   "id": "6e3d6c90-a6bb-47b6-ac2f-4f1c54e7721f",
   "metadata": {},
   "source": [
    "Add all the new columns to the data frames. These will be our final, processed versions of the data."
   ]
  },
  {
   "cell_type": "code",
   "execution_count": 13,
   "id": "00df262f-dfb9-43a3-8327-766de525f938",
   "metadata": {},
   "outputs": [],
   "source": [
    "data.loc[:, 'block'] = block\n",
    "data.loc[:, 'trial'] = trial\n",
    "data.loc[:, 'test_correct'] = test_correct\n",
    "tap_data.loc[:, 'test_correct'] = test_correct2\n",
    "data.loc[:, 'test_incorrect'] = test_incorrect\n",
    "tap_data.loc[:, 'test_incorrect'] = test_incorrect2\n",
    "data.loc[:, 'test_skipped'] = test_skipped\n",
    "tap_data.loc[:, 'test_skipped'] = test_skipped2\n",
    "data.loc[:, 'extreme_responses'] = extremes\n",
    "tap_data.loc[:, 'extreme_responses'] = extremes2\n",
    "data.loc[:, 'pearsonr'] = corr\n",
    "tap_data.loc[:, 'pearsonr'] = corr2\n",
    "data.loc[:, 'intercept'] = intercept\n",
    "tap_data.loc[:, 'intercept'] = intercept2\n",
    "data.loc[:, 'slope'] = slope\n",
    "tap_data.loc[:, 'slope'] = slope2\n",
    "data.loc[:, 'residual'] = resid\n",
    "data.loc[:, 'illusory_tempo'] = illusory_tempo\n",
    "data.loc[:, 'cooks'] = cooks"
   ]
  },
  {
   "cell_type": "markdown",
   "id": "0a04bd2f-2db6-442e-a0c7-d44b82d8b694",
   "metadata": {},
   "source": [
    "### Save Processed Data\n",
    "\n",
    "Save the cleaned and processed version of the data to a CSV. These are the files we will load to perform analyses."
   ]
  },
  {
   "cell_type": "code",
   "execution_count": 14,
   "id": "d8b03dbe-d5e6-4dcf-9d65-d7851a6cee8d",
   "metadata": {},
   "outputs": [],
   "source": [
    "data.to_csv(SAVEFILE, index=False)\n",
    "tap_data.to_csv(TAP_SAVEFILE, index=False)"
   ]
  }
 ],
 "metadata": {
  "kernelspec": {
   "display_name": "Python 3 (ipykernel)",
   "language": "python",
   "name": "python3"
  },
  "language_info": {
   "codemirror_mode": {
    "name": "ipython",
    "version": 3
   },
   "file_extension": ".py",
   "mimetype": "text/x-python",
   "name": "python",
   "nbconvert_exporter": "python",
   "pygments_lexer": "ipython3",
   "version": "3.10.4"
  }
 },
 "nbformat": 4,
 "nbformat_minor": 5
}
