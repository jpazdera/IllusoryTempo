{
 "cells": [
  {
   "cell_type": "markdown",
   "id": "2d789185-8472-49a2-be9b-3b9b99fd44b4",
   "metadata": {},
   "source": [
    "# Participant Screening - Experiment 1: Illusory Tempo"
   ]
  },
  {
   "cell_type": "code",
   "execution_count": 1,
   "id": "cdcbb8a4-2fa9-4d03-bfe9-a5c8f4207071",
   "metadata": {},
   "outputs": [],
   "source": [
    "import numpy as np\n",
    "import pandas as pd\n",
    "import seaborn as sns\n",
    "import matplotlib.pyplot as plt\n",
    "from glob import glob\n",
    "\n",
    "DATAFILE = '../data/tap_data.csv'\n",
    "OUTFILE = '../data/excluded.txt'"
   ]
  },
  {
   "cell_type": "markdown",
   "id": "fossil-boards",
   "metadata": {},
   "source": [
    "# Load data"
   ]
  },
  {
   "cell_type": "code",
   "execution_count": 2,
   "id": "available-rates",
   "metadata": {},
   "outputs": [],
   "source": [
    "all_data = pd.read_csv(DATAFILE)\n",
    "data = all_data.copy()"
   ]
  },
  {
   "cell_type": "markdown",
   "id": "loving-queue",
   "metadata": {},
   "source": [
    "# Headphone Test\n",
    "Identify participants who got answered fewer than four headphone test trials correctly."
   ]
  },
  {
   "cell_type": "code",
   "execution_count": 3,
   "id": "productive-chuck",
   "metadata": {},
   "outputs": [
    {
     "name": "stdout",
     "output_type": "stream",
     "text": [
      "EXCLUDED: 8\n",
      "[13 28 32 49 58 60 64 68]\n"
     ]
    },
    {
     "data": {
      "image/png": "[encoded data removed]",
      "text/plain": [
       "<Figure size 864x288 with 3 Axes>"
      ]
     },
     "metadata": {
      "needs_background": "light"
     },
     "output_type": "display_data"
    }
   ],
   "source": [
    "failed_test = np.array(data[data.test_correct < 4].subject)\n",
    "print('EXCLUDED: %i' % len(failed_test))\n",
    "print(failed_test)\n",
    "\n",
    "# Audio test performance\n",
    "plt.figure(figsize=(12, 4))\n",
    "plt.subplot(131)\n",
    "sns.histplot(data.test_correct, bins=7)\n",
    "plt.subplot(132)\n",
    "sns.histplot(data.test_incorrect, bins=7)\n",
    "plt.subplot(133)\n",
    "sns.histplot(data.test_skipped, bins=7)\n",
    "plt.tight_layout()\n",
    "\n",
    "# Drop excluded subjects before proceeding\n",
    "data = data[~np.isin(data.subject, failed_test)]"
   ]
  },
  {
   "cell_type": "markdown",
   "id": "special-dating",
   "metadata": {},
   "source": [
    "# Extreme Response Check\n",
    "Identify participants who responded 0/50/100 at least 75 times."
   ]
  },
  {
   "cell_type": "code",
   "execution_count": 4,
   "id": "utility-suite",
   "metadata": {},
   "outputs": [
    {
     "name": "stdout",
     "output_type": "stream",
     "text": [
      "EXCLUDED: 1\n",
      "[14]\n"
     ]
    },
    {
     "data": {
      "image/png": "[encoded data removed]",
      "text/plain": [
       "<Figure size 432x288 with 1 Axes>"
      ]
     },
     "metadata": {
      "needs_background": "light"
     },
     "output_type": "display_data"
    }
   ],
   "source": [
    "grouped = data.groupby('subject')\n",
    "extreme_resp = grouped.extreme_responses.mean() >= 75\n",
    "extreme_resp = np.array(extreme_resp[extreme_resp].reset_index().subject)\n",
    "print('EXCLUDED: %i' % len(extreme_resp))\n",
    "print(extreme_resp)\n",
    "\n",
    "plt.scatter(data.subject, data.extreme_responses, c='k', label='Included')\n",
    "plt.axhline(75, c='k', ls='--')\n",
    "plt.ylim(-1, 91)\n",
    "plt.ylabel('Extreme Responses')\n",
    "plt.xlabel('Subject ID')\n",
    "plt.tight_layout()\n",
    "\n",
    "# Drop excluded subjects before proceeding\n",
    "data = data[~np.isin(data.subject, extreme_resp)]"
   ]
  },
  {
   "cell_type": "markdown",
   "id": "material-peoples",
   "metadata": {},
   "source": [
    "# Outlier Response Check\n",
    "Exclude participants whose responses were correlated r < .5 with the log of IOI."
   ]
  },
  {
   "cell_type": "code",
   "execution_count": 5,
   "id": "adolescent-australia",
   "metadata": {},
   "outputs": [
    {
     "name": "stdout",
     "output_type": "stream",
     "text": [
      "EXCLUDED: 1\n",
      "[30]\n"
     ]
    },
    {
     "data": {
      "image/png": "[encoded data removed]",
      "text/plain": [
       "<Figure size 432x288 with 1 Axes>"
      ]
     },
     "metadata": {
      "needs_background": "light"
     },
     "output_type": "display_data"
    }
   ],
   "source": [
    "outlier = np.array(data[data.pearsonr < .5].subject)\n",
    "print('EXCLUDED: %i' % len(outlier))\n",
    "print(outlier)\n",
    "\n",
    "plt.scatter(data.subject, data.pearsonr, c='k')\n",
    "plt.axhline(.5, c='k', ls='--')\n",
    "plt.ylim(-1, 1)\n",
    "plt.ylabel('Pearson $r$')\n",
    "plt.xlabel('Subject ID')\n",
    "plt.tight_layout()\n",
    "\n",
    "# Drop excluded subjects before proceeding\n",
    "data = data[~np.isin(data.subject, outlier)]"
   ]
  },
  {
   "cell_type": "markdown",
   "id": "bizarre-presentation",
   "metadata": {},
   "source": [
    "# Save Exclusion"
   ]
  },
  {
   "cell_type": "code",
   "execution_count": 6,
   "id": "partial-parallel",
   "metadata": {},
   "outputs": [],
   "source": [
    "excluded = np.union1d(np.union1d(failed_test, extreme_resp), outlier)\n",
    "included = data.subject.unique()\n",
    "np.savetxt(OUTFILE, excluded, fmt='%i')"
   ]
  },
  {
   "cell_type": "code",
   "execution_count": 7,
   "id": "toxic-martin",
   "metadata": {},
   "outputs": [
    {
     "name": "stdout",
     "output_type": "stream",
     "text": [
      "EXCLUSION LIST: [13, 14, 28, 30, 32, 49, 58, 60, 64, 68]\n",
      "INCLUSION LIST: [1, 2, 3, 4, 8, 6, 9, 10, 11, 17, 18, 19, 23, 25, 27, 29, 31, 35, 36, 37, 38, 42, 45, 46, 50, 48, 57, 59, 61, 62, 67, 70, 71, 73, 74, 76]\n",
      "TOTALS: 46 36\n",
      "CONDITIONS: 24 22 20 16\n"
     ]
    }
   ],
   "source": [
    "conditions = np.array([x for x in all_data.tap_condition])\n",
    "incl_conditions = np.array([x for x in data.tap_condition])\n",
    "\n",
    "print('EXCLUSION LIST:', excluded.tolist())\n",
    "print('INCLUSION LIST:', included.tolist())\n",
    "print('TOTALS:', len(excluded) + len(included), len(included))\n",
    "print('CONDITIONS:', np.sum(~conditions), np.sum(conditions), np.sum(~incl_conditions), np.sum(incl_conditions))"
   ]
  },
  {
   "cell_type": "code",
   "execution_count": null,
   "id": "alternate-street",
   "metadata": {},
   "outputs": [],
   "source": []
  }
 ],
 "metadata": {
  "kernelspec": {
   "display_name": "Python 3 (ipykernel)",
   "language": "python",
   "name": "python3"
  },
  "language_info": {
   "codemirror_mode": {
    "name": "ipython",
    "version": 3
   },
   "file_extension": ".py",
   "mimetype": "text/x-python",
   "name": "python",
   "nbconvert_exporter": "python",
   "pygments_lexer": "ipython3",
   "version": "3.10.4"
  }
 },
 "nbformat": 4,
 "nbformat_minor": 5
}
