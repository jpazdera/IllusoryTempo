{
 "cells": [
  {
   "cell_type": "markdown",
   "id": "8ac0d8c6",
   "metadata": {},
   "source": [
    "# Data Processing - Experiment 5: IT Split Range"
   ]
  },
  {
   "cell_type": "markdown",
   "id": "58afba83-33d3-463e-b712-82547f056c44",
   "metadata": {
    "tags": []
   },
   "source": [
    "### Imports and Constants"
   ]
  },
  {
   "cell_type": "code",
   "execution_count": 1,
   "id": "f61695a7",
   "metadata": {},
   "outputs": [],
   "source": [
    "import numpy as np\n",
    "import pandas as pd\n",
    "import scipy.stats as ss\n",
    "import statsmodels.api as sm\n",
    "from glob import glob\n",
    "from statsmodels.stats.outliers_influence import OLSInfluence\n",
    "\n",
    "def swap_ioi_bpm(t):\n",
    "    \"\"\"\n",
    "    Converts an interonset interval (IOI) in milliseconds to tempo in beats per minute, or\n",
    "    BPM to the corresponding IOI. Conveniently, the equation is the same to convert in either\n",
    "    direction - just divide 60000 ms by your value. Sometimes the universe is benign. :)\n",
    "    :param t: Either an interonset interval in milliseconds or a BPM value. Can also be an array\n",
    "        of these values.\n",
    "    :return: If t was an interonset interval, result will be the corresponding BPM.\n",
    "        If t was a tempo in BPM, result will be the corresponding interonset interval.\n",
    "    \"\"\"\n",
    "    return 60000 / t\n",
    "\n",
    "# Define and find file paths\n",
    "DATA_PATH = '../data/'\n",
    "SAVEFILE = '../data/response_data.csv'\n",
    "\n",
    "# Define levels of conditions\n",
    "IOI_LEVELS = np.array([1000, 918, 843, 774, 710, 652, 599, 550, 504, 463, 425, 390, 358, 329, 302])\n",
    "IOI_BINS = [(IOI_LEVELS[3*i], IOI_LEVELS[1+3*i], IOI_LEVELS[2+3*i]) for i in range(5)]\n",
    "TEMPO_LEVELS = swap_ioi_bpm(IOI_LEVELS)\n",
    "TEMPO_BINS = [(TEMPO_LEVELS[3*i], TEMPO_LEVELS[1+3*i], TEMPO_LEVELS[2+3*i]) for i in range(5)]\n",
    "PITCH_LEVELS = [2, 3, 4, 5, 6, 7]\n",
    "LOUDNESS_LEVELS = [0, 1, 2]\n",
    "METRONOME_IOI = 550\n",
    "METRONOME_TEMPO = swap_ioi_bpm(550)\n",
    "\n",
    "# Define functions to convert between tempos and ratings\n",
    "def bpm_to_rating(bpm, referent=METRONOME_TEMPO, intercept=50, slope=50):\n",
    "    \"\"\"\n",
    "    Calculates location of any tempo in BPM on the scale used in the study. Appears\n",
    "    in the manuscript as Equation 1.\n",
    "\n",
    "    The default intercept and slope are the ground truth values, and assume 1) that a\n",
    "    score of 50 corresponds to a tempo equal to the metronome and 2) every doubling of\n",
    "    the tempo increases the score by 50. Subject-specific slopes and intercepts can be\n",
    "    passed as arguments instead to obtain r_hat (see Equation 3).\n",
    "    \"\"\"\n",
    "    return intercept + slope * np.log2(bpm / referent)\n",
    "\n",
    "def rating_to_bpm(r, referent=METRONOME_TEMPO, intercept=50, slope=50):\n",
    "    \"\"\"\n",
    "    Converts any relative tempo rating to its corresponding tempo in BPM.\n",
    "    Appears in the manuscript as Equation 2.\n",
    "\n",
    "    The default intercept and slope used in the equation are the ground truth values,\n",
    "    but subject-specific slopes and intercepts can be passed as arguments instead to\n",
    "    obtain t_hat (see Equation 4).\n",
    "    \"\"\"\n",
    "    return referent * 2 ** ((r - intercept) / slope)"
   ]
  },
  {
   "cell_type": "markdown",
   "id": "b7270322-8a7c-47ba-b71a-a78355f4911e",
   "metadata": {},
   "source": [
    "### Load Raw Data\n",
    "\n",
    "Pavlovia saves each person's data to a separate CSV file. Here we use glob to find all the data files. We then read each data file with Pandas, check to make sure it's a complete session (i.e., it has an \"ending\" event), and append it to a single dataframe containing everyone's data."
   ]
  },
  {
   "cell_type": "code",
   "execution_count": 2,
   "id": "78286ccd-c2ec-486c-a864-3f3921f53968",
   "metadata": {},
   "outputs": [],
   "source": [
    "datafiles = np.array(glob(DATA_PATH + 'I*.csv'))\n",
    "df = []\n",
    "for f in datafiles:\n",
    "    d = pd.read_csv(f)\n",
    "    if 'event' in d and d.event.iloc[-1] == 'ending':\n",
    "        df.append(d)\n",
    "df = pd.concat(df, ignore_index=True)"
   ]
  },
  {
   "cell_type": "markdown",
   "id": "e3189dab-7744-42c3-8e9a-c48a2bca1c11",
   "metadata": {},
   "source": [
    "### Process Main Task\n",
    "\n",
    "Get data frames containing only tone presentations and responses, respectively. Each trial produces one presentation event and one response event."
   ]
  },
  {
   "cell_type": "code",
   "execution_count": 3,
   "id": "bdcac5ab-e3bc-4c53-88a5-d76eb428be4c",
   "metadata": {},
   "outputs": [],
   "source": [
    "pres_rows = df[df['event'] == 'tones'].index\n",
    "pres = df.iloc[pres_rows]\n",
    "resp = df.iloc[pres_rows + 1]\n",
    "pres = pres.reset_index(drop=True)\n",
    "resp = resp.reset_index(drop=True)\n",
    "if not np.all(resp.event == 'response'):\n",
    "    raise ValueError('Non-response event included in response dataframe.')"
   ]
  },
  {
   "cell_type": "markdown",
   "id": "2c15360f-d0a3-4f72-84c9-8db5591cdf70",
   "metadata": {},
   "source": [
    "Next, convert conditions and responses from floats to integers."
   ]
  },
  {
   "cell_type": "code",
   "execution_count": 4,
   "id": "6723c8c9-c4f0-4caa-9fbb-d7122c9b8ed0",
   "metadata": {},
   "outputs": [
    {
     "name": "stderr",
     "output_type": "stream",
     "text": [
      "C:\\Users\\jesse\\AppData\\Local\\Temp\\ipykernel_103740\\1292427552.py:2: DeprecationWarning: In a future version, `df.iloc[:, i] = newvals` will attempt to set the values inplace instead of always setting a new array. To retain the old behavior, use either `df[df.columns[i]] = newvals` or, if columns are non-unique, `df.isetitem(i, newvals)`\n",
      "  pres.loc[:, colname] = pres[colname].astype(int)\n",
      "C:\\Users\\jesse\\AppData\\Local\\Temp\\ipykernel_103740\\1292427552.py:4: DeprecationWarning: In a future version, `df.iloc[:, i] = newvals` will attempt to set the values inplace instead of always setting a new array. To retain the old behavior, use either `df[df.columns[i]] = newvals` or, if columns are non-unique, `df.isetitem(i, newvals)`\n",
      "  resp.loc[:, colname] = resp[colname].astype(int)\n"
     ]
    }
   ],
   "source": [
    "for colname in ('pitch', 'ioi', 'loudness', 'range'):\n",
    "    pres.loc[:, colname] = pres[colname].astype(int)\n",
    "for colname in ('pitch', 'ioi', 'loudness', 'range', 'response'):\n",
    "    resp.loc[:, colname] = resp[colname].astype(int)"
   ]
  },
  {
   "cell_type": "markdown",
   "id": "8e1f1cd9-c0f4-400b-9417-3c5872e1b09b",
   "metadata": {},
   "source": [
    "Add a column containing BPM values and ground truth tempo ratings."
   ]
  },
  {
   "cell_type": "code",
   "execution_count": 5,
   "id": "deff9f05-13cd-4a46-a4eb-dc53f569b751",
   "metadata": {},
   "outputs": [],
   "source": [
    "tempo_range_map = dict()\n",
    "for i, iois in enumerate(IOI_BINS):\n",
    "    for ioi in iois:\n",
    "        tempo_range_map[ioi] = i + 1\n",
    "pres = pres.assign(tempo_range=[tempo_range_map[ioi] for ioi in pres['ioi']])\n",
    "pres = pres.assign(tempo=[swap_ioi_bpm(ioi) for ioi in pres['ioi']])\n",
    "pres = pres.assign(true_score=bpm_to_rating(pres['tempo']))"
   ]
  },
  {
   "cell_type": "markdown",
   "id": "866f4e3d-632f-481d-9b63-6dec6ea19a93",
   "metadata": {},
   "source": [
    "Finally, merge presentation and response data back into one data frame with a single row per trial. This will be easier to analyze than having presentation and response data on separate rows."
   ]
  },
  {
   "cell_type": "code",
   "execution_count": 6,
   "id": "4ee0980b-8d14-4d5a-a0a5-7253d3938e0f",
   "metadata": {},
   "outputs": [],
   "source": [
    "# Select columns of interest from presentation and response events\n",
    "pres = pres[['subject', 'range', 'pitch', 'ioi', 'tempo', 'tempo_range', 'loudness', 'true_score']]\n",
    "resp = resp[['response', 'rt']]\n",
    "\n",
    "# Merge presentation and response data\n",
    "data = pd.merge(pres, resp, left_index=True, right_index=True)\n",
    "\n",
    "# Add column containing the difference between the correct and actual response\n",
    "data = data.assign(error=data.response - data.true_score)"
   ]
  },
  {
   "cell_type": "markdown",
   "id": "25fdbd98-0349-4743-a4f5-9b06e0dd8c21",
   "metadata": {},
   "source": [
    "### Additional Scoring\n",
    "\n",
    "Initialize arrays for all the new columns we will be adding to the data frame. An asterisk in the comment indicates that the value is identical for all trials within a given subject; otherwise the score will vary within subjects."
   ]
  },
  {
   "cell_type": "code",
   "execution_count": 7,
   "id": "ab3d5a33-e97f-46ee-a450-a1fa09a3f7ea",
   "metadata": {},
   "outputs": [],
   "source": [
    "# Metadata\n",
    "block = np.zeros(len(data), dtype=int)  # Block number of the trial\n",
    "trial = np.zeros(len(data), dtype=int)  # Trial number within the session\n",
    "\n",
    "# Headphone test scores\n",
    "test_correct = np.zeros(len(data), dtype=int)  # Questions answered correctly (*)\n",
    "test_incorrect = np.zeros(len(data), dtype=int)  # Questions answered incorrectly (*)\n",
    "test_skipped = np.zeros(len(data), dtype=int)  # Questions skipped (*)\n",
    "\n",
    "# Performance criteria\n",
    "extremes = np.zeros(len(data), dtype=float)  # Trials on which they answered 0, 50, or 100 (*)\n",
    "corr = np.zeros(len(data), dtype=float)  # Pearson r correlation between each person's ratings and the ground truth (*)\n",
    "\n",
    "# Parameters and scores relating to the subject-specific IOI-to-rating linear models\n",
    "slope = np.zeros(len(data), dtype=float)  # Slope of the model (*)\n",
    "intercept = np.zeros(len(data), dtype=float)  # Intercept of the model (*)\n",
    "resid = np.zeros(len(data), dtype=float)  # Residual tempo rating on each trial\n",
    "illusory_tempo = np.zeros(len(data), dtype=float)  # Illusory tempo\n",
    "cooks = np.zeros(len(data), dtype=float)  # Cook's distance for the response on each trial"
   ]
  },
  {
   "cell_type": "markdown",
   "id": "5daac71e-0b81-4e85-91d5-1b15213233db",
   "metadata": {},
   "source": [
    "Perform a variety of data processing for each participant. Exclusion-related scoring includes marking the headphone test, counting how many times the participant gave an extreme response (0|50|100), and calculating the correlation between their responses and the actual tempo. We then fit the subject-specific models relating IOIs to raw ratings (Equation 3 in the manuscript) and calculate residual tempo ratings for all trials (Equation 4 in the manuscript)."
   ]
  },
  {
   "cell_type": "code",
   "execution_count": 8,
   "id": "d83af00f-55ba-43c1-bee6-eb9df51954b8",
   "metadata": {},
   "outputs": [],
   "source": [
    "# Define block numbers and trial numbers (these will be the same for each participant)\n",
    "block_numbers = np.concatenate([[x for _ in range(30)] for x in range(6)])\n",
    "trial_numbers = np.arange(1, 181)\n",
    "\n",
    "# Identify which rows come from the headphone test\n",
    "test_tones_mask = df.event == 'headphone_test_tones'\n",
    "test_response_mask = df.event == 'headphone_test_response'\n",
    "\n",
    "for subj in np.unique(data.subject):\n",
    "\n",
    "    # Identify events from current subject\n",
    "    subj_mask = data.subject == subj\n",
    "    subj_mask_full = df.subject == subj\n",
    "    \n",
    "    # Label trials with the blocks they are from\n",
    "    block[subj_mask] = block_numbers\n",
    "    trial[subj_mask] = trial_numbers\n",
    "    \n",
    "    # Isolate headphone test presentation and response data\n",
    "    testpres = df.loc[subj_mask_full & test_tones_mask, :].reset_index()\n",
    "    testresp = df.loc[subj_mask_full & test_response_mask, :].reset_index()\n",
    "    \n",
    "    # Convert key codes for responses to 1, 2, and 3. Then determine whether 1, 2, or 3 was the correct answer \n",
    "    # based on the position of 'S' in the stimulus file name\n",
    "    testresp = testresp.assign(response=np.array(testresp.key_press, dtype=int) - 48,\n",
    "                              answer=[s.find('S') - 28 for s in testpres.stimulus])\n",
    "    \n",
    "    # Score headphone test trials by comparing responses to the correct answers\n",
    "    testresp = testresp.assign(correct=testresp.response == testresp.answer,\n",
    "                              incorrect=(testresp.response != testresp.answer) & (testresp.response > 0),\n",
    "                              skipped=testresp.response == 0)\n",
    "    test_correct[subj_mask] = testresp.correct.sum()\n",
    "    test_incorrect[subj_mask] = testresp.incorrect.sum() \n",
    "    test_skipped[subj_mask] = testresp.skipped.sum()\n",
    "\n",
    "    # Count number of times the participant responded 0|50|100\n",
    "    score = np.sum(np.isin(data.loc[subj_mask, 'response'], (0, 50, 100)))\n",
    "    extremes[subj_mask] = score\n",
    "\n",
    "    # Calculate correlation between participant's responses and true relative tempo\n",
    "    score = ss.pearsonr(data.loc[subj_mask, 'true_score'], data.loc[subj_mask, 'response'])[0]\n",
    "    corr[subj_mask] = score\n",
    "\n",
    "    # Fit model of how the participant mapped tempo onto the scale\n",
    "    fit = sm.OLS(data.loc[subj_mask, 'response'], \n",
    "                sm.add_constant(np.log2(data.loc[subj_mask, 'tempo'] / METRONOME_TEMPO))).fit()\n",
    "\n",
    "    # Identify outlier trials based on Cook's distance\n",
    "    cooks[subj_mask] = OLSInfluence(fit).summary_frame().cooks_d\n",
    "\n",
    "    # Refit model without outliers\n",
    "    refit_mask = subj_mask & (cooks <= 4 / subj_mask.sum())\n",
    "    fit = sm.OLS(data.loc[refit_mask, 'response'],\n",
    "                sm.add_constant(np.log2(data.loc[refit_mask, 'tempo'] / METRONOME_TEMPO))).fit()\n",
    "    intercept[subj_mask] = fit.params[0]\n",
    "    slope[subj_mask] = fit.params[1]\n",
    "\n",
    "    # Use model to get expected rating for each stimulus\n",
    "    t = data.loc[subj_mask, 'tempo']\n",
    "    r = data.loc[subj_mask, 'response']\n",
    "    r_hat = bpm_to_rating(t, intercept=intercept[subj_mask], slope=slope[subj_mask])\n",
    "    #t_hat = rating_to_bpm(r, intercept=intercept[subj_mask], slope=slope[subj_mask])\n",
    "\n",
    "    # Calculate residual tempo rating and illusory tempo using r_hat\n",
    "    resid[subj_mask] = r - r_hat\n",
    "    illusory_tempo[subj_mask] = 100 * (resid[subj_mask] / slope[subj_mask]) # Equivalent to the log2 percent change in tempo, 100 * np.log2(t_hat/t) "
   ]
  },
  {
   "cell_type": "markdown",
   "id": "53baa391-43a7-4596-a370-74c80202e169",
   "metadata": {},
   "source": [
    "Add all the new columns to the data frame. This will be our final, processed version of the data."
   ]
  },
  {
   "cell_type": "code",
   "execution_count": 9,
   "id": "685570c3-71f8-407e-bbe7-5fdf09306ac3",
   "metadata": {},
   "outputs": [],
   "source": [
    "data.loc[:, 'block'] = block\n",
    "data.loc[:, 'trial'] = trial\n",
    "data.loc[:, 'test_correct'] = test_correct\n",
    "data.loc[:, 'test_incorrect'] = test_incorrect\n",
    "data.loc[:, 'test_skipped'] = test_skipped\n",
    "data.loc[:, 'extreme_responses'] = extremes\n",
    "data.loc[:, 'pearsonr'] = corr\n",
    "data.loc[:, 'intercept'] = intercept\n",
    "data.loc[:, 'slope'] = slope\n",
    "data.loc[:, 'residual'] = resid\n",
    "data.loc[:, 'illusory_tempo'] = illusory_tempo\n",
    "data.loc[:, 'cooks'] = cooks"
   ]
  },
  {
   "cell_type": "markdown",
   "id": "85a54104-793b-437d-a22a-5535d9c6d7be",
   "metadata": {},
   "source": [
    "### Save Processed Data\n",
    "\n",
    "Save the cleaned and processed version of the data to a CSV. This is the file we will load to perform analyses."
   ]
  },
  {
   "cell_type": "code",
   "execution_count": 10,
   "id": "db7c72b6-7276-4030-90a4-9254e0e33439",
   "metadata": {
    "tags": []
   },
   "outputs": [],
   "source": [
    "data.to_csv(SAVEFILE, index=False)"
   ]
  }
 ],
 "metadata": {
  "kernelspec": {
   "display_name": "Python 3 (ipykernel)",
   "language": "python",
   "name": "python3"
  },
  "language_info": {
   "codemirror_mode": {
    "name": "ipython",
    "version": 3
   },
   "file_extension": ".py",
   "mimetype": "text/x-python",
   "name": "python",
   "nbconvert_exporter": "python",
   "pygments_lexer": "ipython3",
   "version": "3.10.4"
  }
 },
 "nbformat": 4,
 "nbformat_minor": 5
}
