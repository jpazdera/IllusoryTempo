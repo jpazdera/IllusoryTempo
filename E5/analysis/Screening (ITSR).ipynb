{
 "cells": [
  {
   "cell_type": "markdown",
   "metadata": {},
   "source": [
    "# Participant Screening - Experiment 5: IT Split Range"
   ]
  },
  {
   "cell_type": "code",
   "execution_count": 1,
   "metadata": {},
   "outputs": [],
   "source": [
    "import numpy as np\n",
    "import pandas as pd\n",
    "import seaborn as sns\n",
    "import matplotlib.pylab as plt\n",
    "from glob import glob\n",
    "\n",
    "DATAFILE = '../data/response_data.csv'\n",
    "OUTFILE = '../data/excluded.txt'"
   ]
  },
  {
   "cell_type": "markdown",
   "metadata": {},
   "source": [
    "# Load data"
   ]
  },
  {
   "cell_type": "code",
   "execution_count": 2,
   "metadata": {},
   "outputs": [],
   "source": [
    "all_data = pd.read_csv(DATAFILE)\n",
    "data = all_data.copy()"
   ]
  },
  {
   "cell_type": "markdown",
   "metadata": {},
   "source": [
    "# Headphone Test\n",
    "Identify participants who got answered fewer than four headphone test trials correctly."
   ]
  },
  {
   "cell_type": "code",
   "execution_count": 3,
   "metadata": {},
   "outputs": [
    {
     "name": "stdout",
     "output_type": "stream",
     "text": [
      "EXCLUDED: 16\n",
      "[  2   9  14  19  39  42  44  45  57  71  75  84  96 101 102 110]\n"
     ]
    },
    {
     "data": {
      "image/png": "[encoded data removed]",
      "text/plain": [
       "<Figure size 864x288 with 3 Axes>"
      ]
     },
     "metadata": {
      "needs_background": "light"
     },
     "output_type": "display_data"
    }
   ],
   "source": [
    "grouped = data.groupby('subject')\n",
    "failed_test = grouped.test_correct.mean() < 4\n",
    "failed_test = np.array(failed_test[failed_test].reset_index().subject)\n",
    "print('EXCLUDED: %i' % len(failed_test))\n",
    "print(failed_test)\n",
    "\n",
    "# Audio test performance\n",
    "plt.figure(figsize=(12, 4))\n",
    "plt.subplot(131)\n",
    "sns.histplot(grouped.test_correct.mean(), bins=7)\n",
    "plt.subplot(132)\n",
    "sns.histplot(grouped.test_incorrect.mean(), bins=7)\n",
    "plt.subplot(133)\n",
    "sns.histplot(grouped.test_skipped.mean(), bins=7)\n",
    "plt.tight_layout()\n",
    "\n",
    "# Drop excluded subjects before proceeding\n",
    "data = data[~np.isin(data.subject, failed_test)]"
   ]
  },
  {
   "cell_type": "markdown",
   "metadata": {},
   "source": [
    "# Extreme Response Check\n",
    "Identify participants who responded 0/50/100 at least 150 times."
   ]
  },
  {
   "cell_type": "code",
   "execution_count": 4,
   "metadata": {},
   "outputs": [
    {
     "name": "stdout",
     "output_type": "stream",
     "text": [
      "EXCLUDED: 0\n",
      "[]\n"
     ]
    },
    {
     "data": {
      "image/png": "[encoded data removed]",
      "text/plain": [
       "<Figure size 432x288 with 1 Axes>"
      ]
     },
     "metadata": {
      "needs_background": "light"
     },
     "output_type": "display_data"
    }
   ],
   "source": [
    "grouped = data.groupby('subject')\n",
    "extreme_resp = grouped.extreme_responses.mean() >= 150\n",
    "extreme_resp = np.array(extreme_resp[extreme_resp].reset_index().subject)\n",
    "print('EXCLUDED: %i' % len(extreme_resp))\n",
    "print(extreme_resp)\n",
    "\n",
    "plt.scatter(data.subject, data.extreme_responses, c='k', label='Included')\n",
    "plt.axhline(150, c='k', ls='--')\n",
    "plt.ylim(-1, 181)\n",
    "plt.ylabel('Extreme Responses')\n",
    "plt.xlabel('Subject ID')\n",
    "plt.tight_layout()\n",
    "\n",
    "# Drop excluded subjects before proceeding\n",
    "data = data[~np.isin(data.subject, extreme_resp)]"
   ]
  },
  {
   "cell_type": "markdown",
   "metadata": {},
   "source": [
    "# Outlier Response Check\n",
    "Exclude participants whose responses were correlated r < .5 with the log of IOI."
   ]
  },
  {
   "cell_type": "code",
   "execution_count": 5,
   "metadata": {},
   "outputs": [
    {
     "name": "stdout",
     "output_type": "stream",
     "text": [
      "EXCLUDED: 1\n",
      "[98]\n"
     ]
    },
    {
     "data": {
      "image/png": "[encoded data removed]",
      "text/plain": [
       "<Figure size 432x288 with 1 Axes>"
      ]
     },
     "metadata": {
      "needs_background": "light"
     },
     "output_type": "display_data"
    }
   ],
   "source": [
    "grouped = data.groupby('subject')\n",
    "outlier = grouped.pearsonr.mean() < .5\n",
    "outlier = np.array(outlier[outlier].reset_index().subject)\n",
    "print('EXCLUDED: %i' % len(outlier))\n",
    "print(outlier)\n",
    "\n",
    "plt.scatter(data.subject, data.pearsonr, c='k')\n",
    "plt.axhline(.5, c='k', ls='--')\n",
    "plt.ylim(-1, 1)\n",
    "plt.ylabel('Pearson $r$')\n",
    "plt.xlabel('Subject ID')\n",
    "plt.tight_layout()\n",
    "\n",
    "# Drop excluded subjects before proceeding\n",
    "data = data[~np.isin(data.subject, outlier)]"
   ]
  },
  {
   "cell_type": "markdown",
   "metadata": {},
   "source": [
    "# Save Exclusion"
   ]
  },
  {
   "cell_type": "code",
   "execution_count": 6,
   "metadata": {},
   "outputs": [],
   "source": [
    "excluded = np.union1d(np.union1d(failed_test, extreme_resp), outlier)\n",
    "included = data.subject.unique()\n",
    "np.savetxt(OUTFILE, excluded, fmt='%i')"
   ]
  },
  {
   "cell_type": "code",
   "execution_count": 7,
   "metadata": {},
   "outputs": [
    {
     "name": "stdout",
     "output_type": "stream",
     "text": [
      "EXCLUSION LIST: [2, 9, 14, 19, 39, 42, 44, 45, 57, 71, 75, 84, 96, 98, 101, 102, 110]\n",
      "INCLUSION LIST: [1, 3, 6, 7, 8, 10, 11, 12, 13, 15, 17, 18, 20, 27, 22, 28, 29, 30, 32, 34, 36, 37, 38, 41, 43, 40, 48, 46, 47, 49, 51, 52, 53, 55, 59, 62, 63, 64, 66, 68, 69, 70, 72, 73, 74, 77, 80, 81, 82, 92, 93, 91, 97, 99, 100, 104, 103, 106, 107, 108, 111, 112]\n",
      "TOTALS: 79 62\n",
      "CONDITIONS: 39 40 28 34\n"
     ]
    }
   ],
   "source": [
    "conditions = np.array([x[0] for x in all_data.groupby('subject').range.unique()])\n",
    "incl_conditions = np.array([x[0] for x in data.groupby('subject').range.unique()])\n",
    "\n",
    "print('EXCLUSION LIST:', excluded.tolist())\n",
    "print('INCLUSION LIST:', included.tolist())\n",
    "print('TOTALS:', len(excluded) + len(included), len(included))\n",
    "print('CONDITIONS:', np.sum(conditions == 0), np.sum(conditions == 1), np.sum(incl_conditions == 0), np.sum(incl_conditions == 1))"
   ]
  }
 ],
 "metadata": {
  "kernelspec": {
   "display_name": "Python 3 (ipykernel)",
   "language": "python",
   "name": "python3"
  },
  "language_info": {
   "codemirror_mode": {
    "name": "ipython",
    "version": 3
   },
   "file_extension": ".py",
   "mimetype": "text/x-python",
   "name": "python",
   "nbconvert_exporter": "python",
   "pygments_lexer": "ipython3",
   "version": "3.10.4"
  }
 },
 "nbformat": 4,
 "nbformat_minor": 4
}
