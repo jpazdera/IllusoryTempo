{
 "cells": [
  {
   "cell_type": "markdown",
   "id": "973d777d",
   "metadata": {},
   "source": [
    "# Analysis - Experiment 5: IT Split Range"
   ]
  },
  {
   "cell_type": "code",
   "execution_count": null,
   "id": "d34ef39b",
   "metadata": {},
   "outputs": [],
   "source": [
    "import numpy as np\n",
    "import pandas as pd\n",
    "import seaborn as sns\n",
    "import matplotlib\n",
    "import matplotlib.pylab as plt\n",
    "import scipy.stats as ss\n",
    "\n",
    "def swap_ioi_bpm(t):\n",
    "    \"\"\"\n",
    "    Converts an interonset interval (IOI) in milliseconds to tempo in beats per minute, or\n",
    "    BPM to the corresponding IOI. Conveniently, the equation is the same to convert in either\n",
    "    direction - just divide 60000 ms by your value. Sometimes the universe is benign. :)\n",
    "    :param t: Either an interonset interval in milliseconds or a BPM value. Can also be an array\n",
    "        of these values.\n",
    "    :return: If t was an interonset interval, result will be the corresponding BPM.\n",
    "        If t was a tempo in BPM, result will be the corresponding interonset interval.\n",
    "    \"\"\"\n",
    "    return 60000 / t\n",
    "\n",
    "# Set file paths\n",
    "DATAFILE = '../data/response_data.csv'\n",
    "SURVEYFILE = '../data/survey_responses.csv'\n",
    "EXCFILE = '../data/excluded.txt'\n",
    "FIGURE_PATH = './figures/'\n",
    "IOI_LEVELS = np.array([1000, 918, 843, 774, 710, 652, 599, 550, 504, 463, 425, 390, 358, 329, 302])\n",
    "IOI_BINS = [(IOI_LEVELS[3*i], IOI_LEVELS[1+3*i], IOI_LEVELS[2+3*i]) for i in range(5)]\n",
    "TEMPO_LEVELS = swap_ioi_bpm(IOI_LEVELS)\n",
    "TEMPO_BINS = [(TEMPO_LEVELS[3*i], TEMPO_LEVELS[1+3*i], TEMPO_LEVELS[2+3*i]) for i in range(5)]\n",
    "PITCH_LEVELS = [2, 3, 4, 5, 6, 7]\n",
    "LOUDNESS_LEVELS = [0, 1, 2]\n",
    "METRONOME_IOI = 550\n",
    "METRONOME_TEMPO = swap_ioi_bpm(550)\n",
    "\n",
    "# Define functions to convert between tempos and ratings\n",
    "def bpm_to_rating(bpm, referent=METRONOME_TEMPO, intercept=50, slope=50):\n",
    "    \"\"\"\n",
    "    Calculates location of any tempo in BPM on the scale used in the study. Appears\n",
    "    in the manuscript as Equation 1.\n",
    "\n",
    "    The default intercept and slope are the ground truth values, and assume 1) that a\n",
    "    score of 50 corresponds to a tempo equal to the metronome and 2) every doubling of\n",
    "    the tempo increases the score by 50. Subject-specific slopes and intercepts can be\n",
    "    passed as arguments instead to obtain r_hat (see Equation 3).\n",
    "    \"\"\"\n",
    "    return intercept + slope * np.log2(bpm / referent)\n",
    "\n",
    "def rating_to_bpm(r, referent=METRONOME_TEMPO, intercept=50, slope=50):\n",
    "    \"\"\"\n",
    "    Converts any relative tempo rating to its corresponding tempo in BPM.\n",
    "    Appears in the manuscript as Equation 2.\n",
    "\n",
    "    The default intercept and slope used in the equation are the ground truth values,\n",
    "    but subject-specific slopes and intercepts can be passed as arguments instead to\n",
    "    obtain t_hat (see Equation 4).\n",
    "    \"\"\"\n",
    "    return referent * 2 ** ((r - intercept) / slope)\n",
    "\n",
    "# Adjust matplotlib settings\n",
    "plt.rc('figure', titlesize=32)  # fontsize of the figure title\n",
    "plt.rc('axes', labelsize=28)    # fontsize of the x and y labels\n",
    "plt.rc('xtick', labelsize=23)    # fontsize of the tick labels\n",
    "plt.rc('ytick', labelsize=23)    # fontsize of the tick labels\n",
    "plt.rc('legend', fontsize=18)    # legend fontsize\n",
    "matplotlib.rcParams['axes.spines.right'] = False\n",
    "matplotlib.rcParams['axes.spines.top'] = False"
   ]
  },
  {
   "cell_type": "code",
   "execution_count": null,
   "id": "6513f493-6fb3-4e87-a3ec-16c7b899531e",
   "metadata": {
    "tags": []
   },
   "outputs": [],
   "source": [
    "# Load data\n",
    "data = pd.read_csv(DATAFILE)\n",
    "\n",
    "# Remove excluded participants\n",
    "excluded = np.loadtxt(EXCFILE, dtype=int)\n",
    "data = data[~np.isin(data.subject, excluded)]\n",
    "\n",
    "# Exclude outlier trials\n",
    "data = data[data.cooks <= 4 / 180]"
   ]
  },
  {
   "cell_type": "markdown",
   "id": "cbcac0cf",
   "metadata": {},
   "source": [
    "# Raw Tempo Ratings"
   ]
  },
  {
   "cell_type": "code",
   "execution_count": null,
   "id": "dab5ac34",
   "metadata": {},
   "outputs": [],
   "source": [
    "# Get subject averages\n",
    "subj_avg = data.groupby(['subject', 'tempo']).response.mean().reset_index()\n",
    "subj_slopes = data.groupby('subject').slope.mean().reset_index()\n",
    "subj_intercepts = data.groupby('subject').intercept.mean().reset_index()\n",
    "\n",
    "plt.figure()\n",
    "\n",
    "# Scatterplot\n",
    "ax = sns.scatterplot(x=np.log2(subj_avg.tempo), y='response', data=subj_avg, alpha=.075, color='k', s=75, zorder=1)\n",
    "\n",
    "# Individual subject fits\n",
    "for i in range(len(subj_slopes)):\n",
    "    slope = subj_slopes.iloc[i, 1]\n",
    "    intercept = subj_intercepts.iloc[i, 1]\n",
    "    plt.axline((np.log2(TEMPO_LEVELS[0]), bpm_to_rating(TEMPO_LEVELS[0], intercept=intercept, slope=slope)),\n",
    "               (np.log2(TEMPO_LEVELS[-1]), bpm_to_rating(TEMPO_LEVELS[-1], intercept=intercept, slope=slope)),\n",
    "               c='#5E6A71', ls='-', alpha=.12, zorder=0, lw=.8, label='Individual fit' if i==0 else None)\n",
    "        \n",
    "# Average of all subject fits\n",
    "inter = subj_intercepts.intercept.mean()\n",
    "slope = subj_slopes.slope.mean()\n",
    "plt.axline((np.log2(TEMPO_LEVELS[0]), bpm_to_rating(TEMPO_LEVELS[0], intercept=inter, slope=slope)),\n",
    "           (np.log2(TEMPO_LEVELS[-1]), bpm_to_rating(TEMPO_LEVELS[-1], intercept=inter, slope=slope)),\n",
    "           c='#019AFF', ls='-', alpha=1, label='Average fit', lw=4.5, zorder=2)\n",
    "\n",
    "# Ground truth line\n",
    "plt.axline((np.log2(TEMPO_LEVELS[0]), bpm_to_rating(TEMPO_LEVELS[0], intercept=50, slope=50)),\n",
    "           (np.log2(TEMPO_LEVELS[-1]), bpm_to_rating(TEMPO_LEVELS[-1], intercept=50, slope=50)),\n",
    "           c='k', ls='--', alpha=.8, label='Ground truth', lw=4.5, zorder=2)\n",
    "\n",
    "plt.xlabel('Stimulus Tempo (BPM)')\n",
    "plt.ylabel('Tempo Rating')\n",
    "plt.yticks(range(0, 101, 25))\n",
    "plt.xticks(np.log2([65, 85, 110, 140, 180]))\n",
    "ax.set_xticklabels([65, 85, 110, 140, 180], rotation=0)\n",
    "plt.xlim(np.log2(swap_ioi_bpm(1100)), np.log2(swap_ioi_bpm(275)))\n",
    "plt.ylim(-.8, 100.8)\n",
    "plt.legend()\n",
    "\n",
    "plt.gcf().set_size_inches(8, 6.5)\n",
    "plt.tight_layout()\n",
    "\n",
    "plt.gcf().savefig(FIGURE_PATH + 'raw_ratings5.svg')"
   ]
  },
  {
   "cell_type": "markdown",
   "id": "fa4c3605",
   "metadata": {},
   "source": [
    "# Effect of Pitch and Tone Type"
   ]
  },
  {
   "cell_type": "code",
   "execution_count": null,
   "id": "5fa8f740-cf0d-47c4-87fd-3b9bea85841c",
   "metadata": {
    "tags": []
   },
   "outputs": [],
   "source": [
    "plt.figure()\n",
    "sns.lineplot(x=data.pitch, y='illusory_tempo', data=data[data.range==0], color='#002c6a', ls='-',\n",
    "             marker='', err_style='bars', err_kws=dict(capsize=6, lw=3, capthick=3), lw=3, label='Lower Register')\n",
    "sns.lineplot(x=data.pitch+5, y='illusory_tempo', data=data[data.range==1], color='#e45171', ls='--',\n",
    "             marker='', err_style='bars', err_kws=dict(capsize=6, lw=3, capthick=3), lw=3, label='Upper Register')\n",
    "plt.axhline(0, ls='--', c='k', alpha=.5)\n",
    "plt.xticks(range(0, 11, 2), ['A2\\n(110)', 'A3\\n(220)', 'A4\\n(440)', 'A5\\n(880)', 'A6\\n(1760)', 'A7\\n(3560)'])\n",
    "plt.yticks(range(-2, 6))\n",
    "plt.xlabel('Pitch (Hz)')\n",
    "plt.ylabel('Illusory Tempo (%)')\n",
    "plt.legend(loc=2)\n",
    "plt.gcf().set_size_inches(9, 7.5)\n",
    "plt.tight_layout()\n",
    "#plt.gcf().savefig(FIGURE_PATH + 'illusory_pitch5.svg')"
   ]
  },
  {
   "cell_type": "code",
   "execution_count": null,
   "id": "b0946807",
   "metadata": {},
   "outputs": [],
   "source": [
    "plt.figure()\n",
    "sns.lineplot(x=data.pitch, y='residual', data=data[data.range==0], color='#002c6a', ls='-',\n",
    "             marker='', err_style='bars', err_kws=dict(capsize=6, lw=3, capthick=3), lw=3, label='Lower Register')\n",
    "sns.lineplot(x=data.pitch+5, y='residual', data=data[data.range==1], color='#e45171', ls='--',\n",
    "             marker='', err_style='bars', err_kws=dict(capsize=6, lw=3, capthick=3), lw=3, label='Upper Register')\n",
    "plt.axhline(0, ls='--', c='k', alpha=.5)\n",
    "plt.ylim(-3, 3)\n",
    "plt.xticks(range(0, 11, 2), ['A2', 'A3', 'A4', 'A5', 'A6', 'A7'])\n",
    "plt.xlabel('Pitch')\n",
    "plt.ylabel('Residual Tempo Rating')\n",
    "plt.legend(loc=2)\n",
    "plt.gcf().set_size_inches(9, 7.5)\n",
    "plt.tight_layout()\n",
    "plt.gcf().savefig(FIGURE_PATH + 'pitch5.svg')"
   ]
  },
  {
   "cell_type": "code",
   "execution_count": null,
   "id": "a4cc3285-d54e-4040-a628-70f434feafb4",
   "metadata": {},
   "outputs": [],
   "source": [
    "plt.figure()\n",
    "sns.lineplot(x=data.pitch-.025, y='response', data=data[data.range==0], color='#002c6a', \n",
    "             marker='', err_style='bars', err_kws=dict(capsize=6, lw=3, capthick=3), lw=2.5, label='Low Register')\n",
    "ax=sns.lineplot(x=data.pitch+5.025, y='response', data=data[data.range==1], color='#e45171', \n",
    "             marker='', err_style='bars', err_kws=dict(capsize=6, lw=3, capthick=3), lw=2.5, label='High Register')\n",
    "plt.xlabel('Pitch Level')\n",
    "plt.ylabel('Tempo Rating')\n",
    "plt.ylim(46, 56.5)\n",
    "plt.xticks([0, 2, 4, 6, 8, 10], ['A2', 'A3', 'A4', 'A5', 'A6', 'A7'])\n",
    "plt.xlabel('Pitch')\n",
    "\n",
    "plt.gcf().set_size_inches(12, 7.5)\n",
    "plt.tight_layout()\n",
    "plt.gcf().savefig(FIGURE_PATH + 'raw_pitch5.svg')"
   ]
  },
  {
   "cell_type": "markdown",
   "id": "f5278d37",
   "metadata": {},
   "source": [
    "# Survey Analysis\n",
    "\n",
    "Please note that in order to preserve participant privacy, survey responses have not been made open access. Please contact the authors for access to data regarding demographics and musical experience."
   ]
  },
  {
   "cell_type": "code",
   "execution_count": null,
   "id": "a23f2f9e",
   "metadata": {
    "tags": []
   },
   "outputs": [],
   "source": [
    "# Load survey data and rename ID to subject\n",
    "surv = pd.read_csv(SURVEYFILE)\n",
    "surv.rename(columns={'id':'subject'}, inplace=True)\n",
    "\n",
    "# Get list of subjects included in analyses\n",
    "subj_list = data.subject.unique()\n",
    "\n",
    "# Select only survey responses from participants included in analyses\n",
    "surv = surv[np.in1d(surv.subject, subj_list)]\n",
    "surv.reset_index()\n",
    "\n",
    "# Add column indicating whether the participant was in the low or high range condition\n",
    "surv['range'] = np.array([data[data.subject == s].range.iloc[0] for s in surv.subject])\n",
    "\n",
    "# Print age stats\n",
    "print('Minimum Age:', surv.age.min())\n",
    "print('Maximum Age:', surv.age.max())\n",
    "print('Mean Age:', surv.age.mean())\n",
    "print('StdDev Age:', surv.age.std())\n",
    "\n",
    "# Print gender stats\n",
    "print('Number of Males:', np.sum(surv.gender == 'Male'))\n",
    "print('Number of Females:', np.sum(surv.gender == 'Female'))\n",
    "print('Number not reported:', np.sum(surv.gender== 'Prefer not to answer'))\n",
    "print('Number self-described:', np.sum(surv.gender == 'Other'))\n",
    "print('Self-descriptions:', [g for g in surv['gender[other]'] if type(g) == str])\n",
    "print('Number of Low Females:', np.sum((surv.gender == 'Female') & (surv.range == 0)))\n",
    "print('Number of Low Males:', np.sum((surv.gender == 'Male') & (surv.range == 0)))\n",
    "print('Number of High Females:', np.sum((surv.gender == 'Female') & (surv.range == 1)))\n",
    "print('Number of High Males:', np.sum((surv.gender == 'Male') & (surv.range == 1)))"
   ]
  }
 ],
 "metadata": {
  "kernelspec": {
   "display_name": "Python 3 (ipykernel)",
   "language": "python",
   "name": "python3"
  },
  "language_info": {
   "codemirror_mode": {
    "name": "ipython",
    "version": 3
   },
   "file_extension": ".py",
   "mimetype": "text/x-python",
   "name": "python",
   "nbconvert_exporter": "python",
   "pygments_lexer": "ipython3",
   "version": "3.10.11"
  }
 },
 "nbformat": 4,
 "nbformat_minor": 5
}
