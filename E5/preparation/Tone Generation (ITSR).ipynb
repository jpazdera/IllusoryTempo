{
 "cells": [
  {
   "cell_type": "code",
   "execution_count": null,
   "metadata": {},
   "outputs": [],
   "source": [
    "import numpy as np\n",
    "import librosa as lba\n",
    "import soundfile as sf\n",
    "from random import random"
   ]
  },
  {
   "cell_type": "code",
   "execution_count": null,
   "metadata": {},
   "outputs": [],
   "source": [
    "stimuli_folder = '../stimuli/'\n",
    "\n",
    "sr = 44100\n",
    "tone_duration = 200\n",
    "\n",
    "rise_duration = 5\n",
    "rise_length = int(rise_duration * sr / 1000)\n",
    "\n",
    "fade_duration = 25\n",
    "fade_length = int(fade_duration * sr / 1000)\n",
    "\n",
    "tones = {\n",
    "    'A7': 3520,\n",
    "    'Ds7': 2489.0160,\n",
    "    'A6': 1760,\n",
    "    'Ds6': 1244.5080,\n",
    "    'A5': 880,\n",
    "    'Ds5': 622.2540,\n",
    "    'A4': 440,\n",
    "    'Ds4': 311.1270,\n",
    "    'A3': 220,\n",
    "    'Ds3': 155.5635,\n",
    "    'A2': 110,\n",
    "    \n",
    "    'Fs6': 1479.9780,  # Midpoint of high range\n",
    "    'C4': 261.6256  # Midpoint of low range\n",
    "}"
   ]
  },
  {
   "cell_type": "markdown",
   "metadata": {},
   "source": [
    "# Generate Tones"
   ]
  },
  {
   "cell_type": "code",
   "execution_count": null,
   "metadata": {},
   "outputs": [],
   "source": [
    "dur = tone_duration / 1000\n",
    "for pitch in tones:\n",
    "    f = tones[pitch]\n",
    "    \n",
    "    # Generate fundamental frequency (co)sine wave\n",
    "    phase = random() * 2 * np.pi\n",
    "    tone = lba.tone(f, sr=sr, duration=dur, phi=phase)\n",
    "    \n",
    "    # Add first three overtones with slope of -6 db (half amplitude) per octave\n",
    "    for i in range(3):\n",
    "        phase = random() * 2 * np.pi\n",
    "        tone += lba.tone(f * (i + 2), sr=sr, duration=dur, phi=phase) / (i + 2)\n",
    "    \n",
    "    # Rescale waveform to range [-1, 1] to prevent clipping\n",
    "    tone /= np.abs(tone).max()\n",
    "\n",
    "    # Apply linear fade to ending\n",
    "    tone[-fade_length:] *= np.linspace(1, 0, fade_length)\n",
    "    # Apply sharp linear rise to start of tone\n",
    "    tone[:rise_length] *= np.linspace(0, 1, rise_length)\n",
    "    \n",
    "    # Save tone\n",
    "    sf.write('../stimuli/tones/tone%s.wav' % pitch, tone, 44100)"
   ]
  },
  {
   "cell_type": "markdown",
   "metadata": {},
   "source": [
    "## (Balance tones in Audacity now, then return)"
   ]
  },
  {
   "cell_type": "markdown",
   "metadata": {},
   "source": [
    "# Generate Sequences"
   ]
  },
  {
   "cell_type": "markdown",
   "metadata": {},
   "source": [
    "### Main Sequences"
   ]
  },
  {
   "cell_type": "code",
   "execution_count": null,
   "metadata": {},
   "outputs": [],
   "source": [
    "octave_ranges = range(2)\n",
    "pitch_levels = range(6)\n",
    "loudness_levels = ('soft', 'normed', 'loud')\n",
    "iois = [1000, 918, 843,\n",
    "        774, 710, 652,\n",
    "        599, 550, 504,\n",
    "        463, 425, 390,\n",
    "        358, 329, 302]\n",
    "\n",
    "for r in octave_ranges:\n",
    "    \n",
    "    # Each octave range uses a different set of six pitches\n",
    "    pitches = ('A2', 'Ds3', 'A3', 'Ds4', 'A4', 'Ds5') if r == 0 else ('Ds5', 'A5', 'Ds6', 'A6', 'Ds7', 'A7')\n",
    "\n",
    "    for i in pitch_levels:\n",
    "        \n",
    "        for j, loudness in enumerate(loudness_levels):\n",
    "            \n",
    "            # Load the i-th pitch level in the current octave range at the appropriate loudness\n",
    "            tone, _ = lba.load(stimuli_folder + 'tones/tone%s-%s.wav' % (pitches[i], loudness), sr=sr)\n",
    "            \n",
    "            for ioi in iois:\n",
    "\n",
    "                # Create array of appropriate length to hold the audio sequence\n",
    "                ms_ioi = ioi / 1000.\n",
    "                sequence = np.zeros(int(np.ceil(8 * ms_ioi * sr)), dtype=np.float32)\n",
    "\n",
    "                # Insert tones at appropriate locations\n",
    "                for k in range(5):\n",
    "                    tone_start = int(np.ceil(k * ms_ioi * sr))\n",
    "                    tone_end = tone_start + tone.shape[0]\n",
    "                    sequence[tone_start:tone_end] = tone\n",
    "\n",
    "                # Cut silence from the end of the sequence\n",
    "                sequence = np.trim_zeros(sequence, 'b')\n",
    "\n",
    "                # Save sequence to WAV file (sequence_<octave range>_<pitch level>_<IOI>_<loudness>.wav)\n",
    "                outfile = stimuli_folder + 'sequence_%i_%i_%i_%i.wav' % (r, i, ioi, j)\n",
    "                sf.write(outfile, sequence, sr)"
   ]
  },
  {
   "cell_type": "markdown",
   "metadata": {},
   "source": [
    "### Practice Trials"
   ]
  },
  {
   "cell_type": "code",
   "execution_count": null,
   "metadata": {},
   "outputs": [],
   "source": [
    "for r in octave_ranges:\n",
    "    \n",
    "    # Load practice tone for the current octave range\n",
    "    practice_tone = 'C4' if r == 0 else 'Fs6'\n",
    "    tone, _ = lba.load(stimuli_folder + 'tones/tone%s-normed.wav' % practice_tone, sr=sr)\n",
    "    \n",
    "    for ioi in (407, 550, 741):\n",
    "        \n",
    "        # Create array of appropriate length to hold audio sequence\n",
    "        ms_ioi = ioi / 1000.\n",
    "        sequence = np.zeros(int(np.ceil(8 * ms_ioi * sr)), dtype=np.float32)\n",
    "\n",
    "        # Insert tones at appropriate locations\n",
    "        for i in range(5):\n",
    "            tone_start = int(np.ceil(i * ms_ioi * sr))\n",
    "            tone_end = tone_start + tone.shape[0]\n",
    "            sequence[tone_start:tone_end] = tone\n",
    "\n",
    "        # Cut silence from the end of the sequence\n",
    "        sequence = np.trim_zeros(sequence, 'b')\n",
    "\n",
    "        # Save sequence to WAV file (practice_sequence_<octave range>_<IOI>.wav)\n",
    "        outfile = stimuli_folder + 'practice_sequence_%i_%i.wav' % (r, ioi)\n",
    "        sf.write(outfile, sequence, sr)"
   ]
  },
  {
   "cell_type": "markdown",
   "metadata": {},
   "source": [
    "### Metronome"
   ]
  },
  {
   "cell_type": "code",
   "execution_count": null,
   "metadata": {},
   "outputs": [],
   "source": [
    "# Load ticking sound\n",
    "tone, sr = lba.load(stimuli_folder + 'tones/tick.wav', sr=None)\n",
    "\n",
    "# Create array of appropriate length to hold audio sequence\n",
    "ioi = 550\n",
    "ms_ioi = ioi / 1000.\n",
    "sequence = np.zeros(int(np.ceil(8 * ms_ioi * sr)), dtype=np.float32)\n",
    "        \n",
    "# Insert tones at appropriate locations\n",
    "for i in range(5):\n",
    "    tone_start = int(np.ceil(i * ms_ioi * sr))\n",
    "    tone_end = tone_start + tone.shape[0]\n",
    "    sequence[tone_start:tone_end] = tone\n",
    "        \n",
    "# Cut silence from the end of the sequence\n",
    "sequence = np.trim_zeros(sequence, 'b')\n",
    "        \n",
    "# Save sequence to WAV file\n",
    "outfile = stimuli_folder + 'reference_sequence.wav'\n",
    "sf.write(outfile, sequence, sr)"
   ]
  }
 ],
 "metadata": {
  "kernelspec": {
   "display_name": "Python 3 (ipykernel)",
   "language": "python",
   "name": "python3"
  },
  "language_info": {
   "codemirror_mode": {
    "name": "ipython",
    "version": 3
   },
   "file_extension": ".py",
   "mimetype": "text/x-python",
   "name": "python",
   "nbconvert_exporter": "python",
   "pygments_lexer": "ipython3",
   "version": "3.8.11"
  }
 },
 "nbformat": 4,
 "nbformat_minor": 4
}
