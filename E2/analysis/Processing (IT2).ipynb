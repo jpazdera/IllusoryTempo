{
 "cells": [
  {
   "cell_type": "markdown",
   "id": "8b9801e1-167b-4934-a8db-e45ad4197d66",
   "metadata": {},
   "source": [
    "# Data Processing - Experiment 2: Illusory Tempo 2"
   ]
  },
  {
   "cell_type": "markdown",
   "id": "2aa4c079-31f5-4a47-ace4-2145c24543d1",
   "metadata": {
    "tags": []
   },
   "source": [
    "### Imports and Constants"
   ]
  },
  {
   "cell_type": "code",
   "execution_count": 1,
   "id": "0f0ac481-8134-448b-a51d-3cd86dd36643",
   "metadata": {},
   "outputs": [],
   "source": [
    "import numpy as np\n",
    "import pandas as pd\n",
    "import scipy.stats as ss\n",
    "import statsmodels.api as sm\n",
    "from glob import glob\n",
    "from statsmodels.stats.outliers_influence import OLSInfluence\n",
    "\n",
    "def rescale_ioi(ioi):\n",
    "    \"\"\"\n",
    "    Calculates location of an IOI on a 0-100 scale. Appears in the manuscript\n",
    "    as Equation 1.\n",
    "\n",
    "    This conversion assumes that 0=275ms and 100=1100ms, given\n",
    "    that a 275 ms IOI is a rate twice as fast as the metronome and a 1100 ms\n",
    "    IOI is a rate half as fast as the metronome.\n",
    "    \"\"\"\n",
    "    ioi = 100 * np.log(1100 / ioi) / np.log(1100 / 275) \n",
    "    return np.round(ioi, 5)\n",
    "\n",
    "# Define and find file paths\n",
    "DATA_PATH = '../data/'\n",
    "SAVEFILE = '../data/response_data.csv'\n",
    "TAP_SAVEFILE = '../data/tap_data.csv'\n",
    "\n",
    "# Define levels of conditions\n",
    "IOI_LEVELS = [1000, 918, 843, 774, 710, 652, 599, 550, 504, 463, 425, 390, 358, 329, 302]\n",
    "TEMPO_BINS = [(1000, 918, 843), (774, 710, 652), (599, 550, 504), (463, 425, 390), (358, 329, 302)]\n",
    "PITCH_LEVELS = [2, 3, 4, 5, 6, 7]\n",
    "LOUDNESS_LEVELS = [0, 1, 2]\n",
    "\n",
    "# Calculate \"correct\" ratings for each IOI and IOI bin\n",
    "CORRECT_RATINGS = [rescale_ioi(ss.gmean(iois)) for iois in TEMPO_BINS]\n",
    "CORRECT_RATINGS_FULL = [rescale_ioi(ioi) for ioi in IOI_LEVELS]"
   ]
  },
  {
   "cell_type": "markdown",
   "id": "b5683c0d-76d5-4a9a-867b-2068453033cc",
   "metadata": {},
   "source": [
    "### Load Raw Data\n",
    "\n",
    "Pavlovia saves each person's data to a separate CSV file. Here we use glob to find all the data files. We then read each data file with Pandas, check to make sure it's a complete session (i.e., it has an \"ending\" event), and append it to a single dataframe containing everyone's data."
   ]
  },
  {
   "cell_type": "code",
   "execution_count": 2,
   "id": "71642409-eb42-4f96-ba2c-c4f3132d3529",
   "metadata": {},
   "outputs": [],
   "source": [
    "datafiles = np.array(glob(DATA_PATH + 'I*.csv'))\n",
    "df = []\n",
    "for f in datafiles:\n",
    "    d = pd.read_csv(f)\n",
    "    # Ensure that the session is complete\n",
    "    if 'event' in d and d.event.iloc[-1] == 'ending':\n",
    "        d['experiment'] = 'IT2'\n",
    "        df.append(d)\n",
    "df = pd.concat(df, ignore_index=True)"
   ]
  },
  {
   "cell_type": "markdown",
   "id": "8f6b4ac5-6407-4e32-ba5e-9fa54c2ffdaa",
   "metadata": {
    "tags": []
   },
   "source": [
    "### Process Spontaneous Motor Tempo Task\n",
    "\n",
    "Separate out the spontaneous motor tempo task from each participant into a new tap_data data frame with one row per subject. Find the spontaneous motor tempo test by looking for the 17th event."
   ]
  },
  {
   "cell_type": "code",
   "execution_count": 3,
   "id": "b28c1a02-7b30-46a9-98a9-17b512fa0dee",
   "metadata": {},
   "outputs": [],
   "source": [
    "tap_data = df.loc[df.trial_index == 17, :]\n",
    "tap_data = tap_data.rename(columns={'rt': 'tap_times'})"
   ]
  },
  {
   "cell_type": "markdown",
   "id": "724cdfa8-ef56-4b1a-92c3-765df257cdcf",
   "metadata": {},
   "source": [
    "Convert the lists of key presses and tap times from strings into lists of integers."
   ]
  },
  {
   "cell_type": "code",
   "execution_count": 4,
   "id": "962941b2-0a7d-4668-9d98-1e90c22eacf4",
   "metadata": {},
   "outputs": [],
   "source": [
    "tap_data['key_press'] = [[int(y) for y in x.split(',')] \n",
    "                         if type(x) == str else x for x in tap_data.key_press]\n",
    "tap_data['tap_times'] = [[int(y) for y in x.split(',')] \n",
    "                         if type(x) == str else x for x in tap_data.tap_times]"
   ]
  },
  {
   "cell_type": "markdown",
   "id": "11563f00-7699-4fff-a89d-ee0a4b26f4de",
   "metadata": {},
   "source": [
    "Clean invalid key presses from the spontaneous rate tapping data"
   ]
  },
  {
   "cell_type": "code",
   "execution_count": 5,
   "id": "45ba72b7-08eb-45e3-a4ca-af7748774ef8",
   "metadata": {},
   "outputs": [],
   "source": [
    "valid_key_presses = []\n",
    "valid_tap_times = []\n",
    "for i in tap_data.index:\n",
    "    if isinstance(tap_data.loc[i, 'key_press'], float):\n",
    "        if np.isnan(tap_data.loc[i, 'key_press']):\n",
    "            tap_data.loc[i, 'key_press'] = [[np.nan]]\n",
    "            tap_data.loc[i, 'tap_times'] = [[np.nan]]\n",
    "        else:\n",
    "            tap_data.loc[i, 'key_press'] = [[int(tap_data.loc[i, 'key_press'])]]\n",
    "            tap_data.loc[i, 'tap_times'] = [[int(tap_data.loc[i, 'tap_times'])]]\n",
    "    fj_mask = np.in1d(tap_data.loc[i, 'key_press'], [70, 74])\n",
    "    valid_key_presses.append(np.array(tap_data.loc[i, 'key_press'])[fj_mask])\n",
    "    valid_tap_times.append(np.array(tap_data.loc[i, 'tap_times'])[fj_mask])\n",
    "tap_data['valid_key_press'] = valid_key_presses\n",
    "tap_data['valid_tap_times'] = valid_tap_times"
   ]
  },
  {
   "cell_type": "markdown",
   "id": "f1a0e3d2-bfd8-4f4e-a27b-a0b11b8cd5ff",
   "metadata": {},
   "source": [
    "Calculate median inter-tap intervals (NaN if tapped 3 or fewer times)"
   ]
  },
  {
   "cell_type": "code",
   "execution_count": 6,
   "id": "cfb1966a-c430-44a0-bdf8-aefc3855658d",
   "metadata": {},
   "outputs": [],
   "source": [
    "itis = [np.median(np.diff(times)) if len(times) > 3 else np.nan \n",
    "        for times in tap_data.valid_tap_times]\n",
    "tap_data['pref_rate'] = itis"
   ]
  },
  {
   "cell_type": "markdown",
   "id": "506ea895-63ef-4ce3-9ad6-0e7de76f3af8",
   "metadata": {},
   "source": [
    "### Process Main Task\n",
    "\n",
    "Get data frames containing only tone presentations and responses, respectively. Each trial produces one presentation event and one response event."
   ]
  },
  {
   "cell_type": "code",
   "execution_count": 7,
   "id": "d2b6d5e0-e86f-429f-9178-97b193580c0e",
   "metadata": {},
   "outputs": [],
   "source": [
    "pres_rows = df[df['event'] == 'tones'].index\n",
    "pres = df.iloc[pres_rows]\n",
    "resp = df.iloc[pres_rows + 1]\n",
    "pres.reset_index(drop=True, inplace=True)\n",
    "resp.reset_index(drop=True, inplace=True)\n",
    "if not np.all(resp.event == 'response'):\n",
    "    raise ValueError('Non-response event included in response dataframe.')"
   ]
  },
  {
   "cell_type": "markdown",
   "id": "4427a0a1-7140-41bf-8ad9-93021e5442f9",
   "metadata": {},
   "source": [
    "Next, read the stimulus file names to determine the pitch, IOI, and loudness of each trial."
   ]
  },
  {
   "cell_type": "code",
   "execution_count": 8,
   "id": "d77bfe1b-f4fd-4534-855b-c72ff44293de",
   "metadata": {},
   "outputs": [],
   "source": [
    "pres = pres.assign(pitch=[int(s[17]) for s in pres['stimulus']],\n",
    "                   ioi=[int(s[19:-6]) for s in pres['stimulus']],\n",
    "                   loudness=[int(s[-5]) for s in pres['stimulus']])"
   ]
  },
  {
   "cell_type": "markdown",
   "id": "812cbaac-afab-4f9a-b4e5-d4f9153220a0",
   "metadata": {},
   "source": [
    "Add a column containing ground truth tempo ratings."
   ]
  },
  {
   "cell_type": "code",
   "execution_count": 9,
   "id": "1a75e30a-621d-4c4a-8484-b0327deb988e",
   "metadata": {},
   "outputs": [],
   "source": [
    "tempo_map = dict()\n",
    "for i, iois in enumerate(TEMPO_BINS):\n",
    "    for ioi in iois:\n",
    "        tempo_map[ioi] = i + 1\n",
    "pres = pres.assign(tempo=[tempo_map[ioi] for ioi in pres['ioi']])\n",
    "pres = pres.assign(true_score=rescale_ioi(pres['ioi']))"
   ]
  },
  {
   "cell_type": "markdown",
   "id": "8cdb6481-7911-4c5b-9279-a2da59e58ba5",
   "metadata": {},
   "source": [
    "Finally, merge presentation and response data back into one data frame with a single row per trial. This will be easier to analyze than having presentation and response data on separate rows."
   ]
  },
  {
   "cell_type": "code",
   "execution_count": 10,
   "id": "77a6e16c-5933-43fc-bcef-73e3ae38238a",
   "metadata": {},
   "outputs": [],
   "source": [
    "# Select columns of interest from presentation and response events\n",
    "pres = pres[['subject', 'pitch', 'ioi', 'tempo', 'loudness', \n",
    "             'tap_condition', 'key_press', 'rt', 'true_score']]\n",
    "resp = resp[['response', 'rt']]\n",
    "\n",
    "# Rename overlapping column name\n",
    "pres.rename(columns={'rt': 'tap_times'}, inplace=True)\n",
    "\n",
    "# Convert tapping information from strings to lists\n",
    "pres['key_press'] = [[int(y) for y in x.split(',')] \n",
    "                     if type(x) == str else x for x in pres.key_press]\n",
    "pres['tap_times'] = [[int(y) for y in x.split(',')] \n",
    "                     if type(x) == str else x for x in pres.tap_times]\n",
    "    \n",
    "# Merge presentation and response data\n",
    "data = pd.merge(pres, resp, left_index=True, right_index=True)\n",
    "\n",
    "# Addd column containing the difference between the correct and actual response\n",
    "data = data.assign(error=data.response - data.true_score)"
   ]
  },
  {
   "cell_type": "markdown",
   "id": "d9bb2566-3043-42ac-9b87-ab68fadc1492",
   "metadata": {},
   "source": [
    "### Additional Scoring\n",
    "\n",
    "Initialize arrays for all the new columns we will be adding to the data frame. An asterisk in the comment indicates that the value is identical for all trials within a given subject; otherwise the score will vary within subjects. Scores that only have one value per participant will also be included in the tap_data dataset (which only includes one row per subject)."
   ]
  },
  {
   "cell_type": "code",
   "execution_count": 11,
   "id": "3d9650de-985f-48cb-bdb3-75d3789c3546",
   "metadata": {},
   "outputs": [],
   "source": [
    "# Metadata\n",
    "block = np.zeros(len(data), dtype=int)\n",
    "trial = np.zeros(len(data), dtype=int)\n",
    "\n",
    "# Headphone test scores (*)\n",
    "test_correct = np.zeros(len(data), dtype=int)\n",
    "test_correct2 = np.zeros(len(tap_data), dtype=int)\n",
    "test_incorrect = np.zeros(len(data), dtype=int)\n",
    "test_incorrect2 = np.zeros(len(tap_data), dtype=int)\n",
    "test_skipped = np.zeros(len(data), dtype=int)\n",
    "test_skipped2 = np.zeros(len(tap_data), dtype=int)\n",
    "\n",
    "# Trials on which they answered 0, 50, or 100 (*)\n",
    "extremes = np.zeros(len(data), dtype=float)  \n",
    "extremes2 = np.zeros(len(tap_data), dtype=float)\n",
    "\n",
    "# Pearson r correlation between each person's ratings and the ground truth (*)\n",
    "corr = np.zeros(len(data), dtype=float)\n",
    "corr2 = np.zeros(len(tap_data), dtype=float)\n",
    "\n",
    "# Slope and intercept of subject-specific IOI-to-rating linear models (*)\n",
    "intercept = np.zeros(len(data), dtype=float)\n",
    "intercept2 = np.zeros(len(tap_data), dtype=float)\n",
    "slope = np.zeros(len(data), dtype=float)\n",
    "slope2 = np.zeros(len(tap_data), dtype=float)\n",
    "\n",
    "# Residual tempo rating and cook's distance for the response on each trial\n",
    "resid = np.zeros(len(data), dtype=float)\n",
    "cooks = np.zeros(len(data), dtype=float)"
   ]
  },
  {
   "cell_type": "markdown",
   "id": "acca8f2d-7fbf-458b-b261-e84d6bffd158",
   "metadata": {},
   "source": [
    "Perform a variety of data processing for each participant. Exclusion-related scoring includes marking the headphone test, counting how many times the participant gave an extreme response (0|50|100), and calculating the correlation between their responses and the actual tempo. We then fit the subject-specific models relating IOIs to raw ratings (Equation 3 in the manuscript) and calculate residual tempo ratings for all trials (Equation 4 in the manuscript)."
   ]
  },
  {
   "cell_type": "code",
   "execution_count": 12,
   "id": "e698b1f1-b8b2-4019-8205-dbf662711733",
   "metadata": {},
   "outputs": [],
   "source": [
    "# Define block and trial numbers (constant across participants)\n",
    "block_numbers = np.concatenate([[x for _ in range(30)] for x in range(3)])\n",
    "trial_numbers = np.arange(1, 91)\n",
    "\n",
    "# Identify which rows come from the headphone test\n",
    "test_tones_mask = df.event == 'headphone_test_tones'\n",
    "test_response_mask = df.event == 'headphone_test_response'\n",
    "\n",
    "# Calculate performance metrics and regression model for each participant\n",
    "for subj in np.unique(data.subject):\n",
    "\n",
    "    # Identify events from current subject\n",
    "    subj_mask = data.subject == subj\n",
    "    subj_mask_full = df.subject == subj\n",
    "    subj_mask_tapdata = tap_data.subject == subj\n",
    "    \n",
    "    # Label trials with the blocks they are from\n",
    "    block[subj_mask] = block_numbers\n",
    "    trial[subj_mask] = trial_numbers\n",
    "    \n",
    "    # Isolate headphone test presentation and response data\n",
    "    testpres = df.loc[subj_mask_full & test_tones_mask, :].reset_index()\n",
    "    testresp = df.loc[subj_mask_full & test_response_mask, :].reset_index()\n",
    "    \n",
    "    # Convert key codes for responses to 1, 2, and 3. Then determine whether 1, 2, or 3 was the correct answer \n",
    "    # based on the position of 'S' in the stimulus file name\n",
    "    testresp = testresp.assign(response=np.array(testresp.key_press, dtype=int) - 48,\n",
    "                              answer=[s.find('S') - 28 for s in testpres.stimulus])\n",
    "    \n",
    "    # Score headphone test trials by comparing responses to the correct answers\n",
    "    testresp = testresp.assign(correct=testresp.response == testresp.answer,\n",
    "                              incorrect=(testresp.response != testresp.answer) & (testresp.response > 0),\n",
    "                              skipped=testresp.response == 0)\n",
    "    test_correct[subj_mask] = testresp.correct.sum()\n",
    "    test_correct2[subj_mask_tapdata] = testresp.correct.sum()\n",
    "    test_incorrect[subj_mask] = testresp.incorrect.sum() \n",
    "    test_incorrect2[subj_mask_tapdata] = testresp.incorrect.sum() \n",
    "    test_skipped[subj_mask] = testresp.skipped.sum()\n",
    "    test_skipped2[subj_mask_tapdata] = testresp.skipped.sum()\n",
    "\n",
    "    # Count number of times the participant responded 0|50|100\n",
    "    score = np.sum(np.isin(data.loc[subj_mask, 'response'], (0, 50, 100)))\n",
    "    extremes[subj_mask] = score\n",
    "    extremes2[subj_mask_tapdata] = score\n",
    "\n",
    "    # Calculate correlation between participant's responses and actual IOI\n",
    "    score = ss.pearsonr(data.loc[subj_mask, 'true_score'], data.loc[subj_mask, 'response'])[0]\n",
    "    corr[subj_mask] = score\n",
    "    corr2[subj_mask_tapdata] = score\n",
    "\n",
    "    # Fit model of how the paricipant mapped tempo onto the scale\n",
    "    fit = sm.OLS(data.loc[subj_mask, 'response'], \n",
    "                 sm.add_constant(np.log(data.loc[subj_mask, 'ioi']))).fit()\n",
    "\n",
    "    # Identify outlier trials based on Cook's distance\n",
    "    cooks[subj_mask] = OLSInfluence(fit).summary_frame().cooks_d\n",
    "\n",
    "    # Refit model without outliers\n",
    "    refit_mask = subj_mask & (cooks <= 4 / subj_mask.sum())\n",
    "    fit = sm.OLS(data.loc[refit_mask, 'response'],\n",
    "                sm.add_constant(np.log(data.loc[refit_mask, 'ioi']))).fit()\n",
    "    intercept[subj_mask] = fit.params[0]\n",
    "    intercept2[subj_mask_tapdata] = fit.params[0]\n",
    "    slope[subj_mask] = fit.params[1]\n",
    "    slope2[subj_mask_tapdata] = fit.params[1]\n",
    "\n",
    "    # Calculate residual tempo ratings\n",
    "    resid[subj_mask] = data.loc[subj_mask, 'response'] - \\\n",
    "        fit.predict(sm.add_constant(np.log(data.loc[subj_mask, 'ioi'])))\n",
    "\n",
    "# Mark trials as tapping type NTI (0), TI-NT (1), or TI-YT (2) based on whether the participant tapped to the repeating tone\n",
    "data.loc[:, 'tapped'] = np.array([isinstance(x, (str, list)) for x in data.key_press])\n",
    "data.loc[:, 'tap_type'] = data.tap_condition.astype(int) + (data.tap_condition & data.tapped).astype(int)"
   ]
  },
  {
   "cell_type": "markdown",
   "id": "9ed28460-878e-4023-86ea-e3218099baba",
   "metadata": {},
   "source": [
    "Add all the new columns to the data frames. These will be our final, processed versions of the data."
   ]
  },
  {
   "cell_type": "code",
   "execution_count": 13,
   "id": "ad4936c0-ef85-466b-af14-06675670deee",
   "metadata": {},
   "outputs": [],
   "source": [
    "data.loc[:, 'block'] = block\n",
    "data.loc[:, 'trial'] = trial\n",
    "data.loc[:, 'test_correct'] = test_correct\n",
    "tap_data.loc[:, 'test_correct'] = test_correct2\n",
    "data.loc[:, 'test_incorrect'] = test_incorrect\n",
    "tap_data.loc[:, 'test_incorrect'] = test_incorrect2\n",
    "data.loc[:, 'test_skipped'] = test_skipped\n",
    "tap_data.loc[:, 'test_skipped'] = test_skipped2\n",
    "data.loc[:, 'extreme_responses'] = extremes\n",
    "tap_data.loc[:, 'extreme_responses'] = extremes2\n",
    "data.loc[:, 'pearsonr'] = corr\n",
    "tap_data.loc[:, 'pearsonr'] = corr2\n",
    "data.loc[:, 'intercept'] = intercept\n",
    "tap_data.loc[:, 'intercept'] = intercept2\n",
    "data.loc[:, 'slope'] = slope\n",
    "tap_data.loc[:, 'slope'] = slope2\n",
    "data.loc[:, 'residual'] = resid\n",
    "data.loc[:, 'cooks'] = cooks"
   ]
  },
  {
   "cell_type": "markdown",
   "id": "26126f70-fead-4814-bc87-4226a84b8016",
   "metadata": {},
   "source": [
    "### Save Processed Data\n",
    "\n",
    "Save the cleaned and processed version of the data to a CSV. These are the files we will load to perform analyses."
   ]
  },
  {
   "cell_type": "code",
   "execution_count": 14,
   "id": "9bb27bd2-53f9-4a59-846c-c8e381e2e391",
   "metadata": {},
   "outputs": [],
   "source": [
    "data.to_csv(SAVEFILE, index=False)\n",
    "tap_data.to_csv(TAP_SAVEFILE, index=False)"
   ]
  }
 ],
 "metadata": {
  "kernelspec": {
   "display_name": "Python 3 (ipykernel)",
   "language": "python",
   "name": "python3"
  },
  "language_info": {
   "codemirror_mode": {
    "name": "ipython",
    "version": 3
   },
   "file_extension": ".py",
   "mimetype": "text/x-python",
   "name": "python",
   "nbconvert_exporter": "python",
   "pygments_lexer": "ipython3",
   "version": "3.10.4"
  }
 },
 "nbformat": 4,
 "nbformat_minor": 5
}
