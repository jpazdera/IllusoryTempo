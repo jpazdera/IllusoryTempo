{
 "cells": [
  {
   "cell_type": "markdown",
   "metadata": {},
   "source": [
    "# Participant Screening - Experiment 4: IT SynthTone"
   ]
  },
  {
   "cell_type": "code",
   "execution_count": 1,
   "metadata": {},
   "outputs": [],
   "source": [
    "import numpy as np\n",
    "import pandas as pd\n",
    "import seaborn as sns\n",
    "import matplotlib.pylab as plt\n",
    "from glob import glob\n",
    "\n",
    "DATAFILE = '../data/response_data.csv'\n",
    "OUTFILE = '../data/excluded.txt'"
   ]
  },
  {
   "cell_type": "markdown",
   "metadata": {},
   "source": [
    "# Load data"
   ]
  },
  {
   "cell_type": "code",
   "execution_count": 2,
   "metadata": {},
   "outputs": [],
   "source": [
    "all_data = pd.read_csv(DATAFILE)\n",
    "data = all_data.copy()"
   ]
  },
  {
   "cell_type": "markdown",
   "metadata": {},
   "source": [
    "# Headphone Test\n",
    "Identify participants who got answered fewer than four headphone test trials correctly."
   ]
  },
  {
   "cell_type": "code",
   "execution_count": 3,
   "metadata": {},
   "outputs": [
    {
     "name": "stdout",
     "output_type": "stream",
     "text": [
      "EXCLUDED: 20\n",
      "[ 10  11  14  15  18  25  34  35  38  52  59  72  75  79  82 113 114 116\n",
      " 121 123]\n"
     ]
    },
    {
     "data": {
      "image/png": "[encoded data removed]",
      "text/plain": [
       "<Figure size 864x288 with 3 Axes>"
      ]
     },
     "metadata": {
      "needs_background": "light"
     },
     "output_type": "display_data"
    }
   ],
   "source": [
    "grouped = data.groupby('subject')\n",
    "failed_test = grouped.test_correct.mean() < 4\n",
    "failed_test = np.array(failed_test[failed_test].reset_index().subject)\n",
    "print('EXCLUDED: %i' % len(failed_test))\n",
    "print(failed_test)\n",
    "\n",
    "# Audio test performance\n",
    "plt.figure(figsize=(12, 4))\n",
    "plt.subplot(131)\n",
    "sns.histplot(grouped.test_correct.mean(), bins=7)\n",
    "plt.subplot(132)\n",
    "sns.histplot(grouped.test_incorrect.mean(), bins=7)\n",
    "plt.subplot(133)\n",
    "sns.histplot(grouped.test_skipped.mean(), bins=7)\n",
    "plt.tight_layout()\n",
    "\n",
    "# Drop excluded subjects before proceeding\n",
    "data = data[~np.isin(data.subject, failed_test)]"
   ]
  },
  {
   "cell_type": "markdown",
   "metadata": {},
   "source": [
    "# Extreme Response Check\n",
    "Identify participants who responded 0/50/100 at least 150 times."
   ]
  },
  {
   "cell_type": "code",
   "execution_count": 4,
   "metadata": {},
   "outputs": [
    {
     "name": "stdout",
     "output_type": "stream",
     "text": [
      "EXCLUDED: 0\n",
      "[]\n"
     ]
    },
    {
     "data": {
      "image/png": "[encoded data removed]",
      "text/plain": [
       "<Figure size 432x288 with 1 Axes>"
      ]
     },
     "metadata": {
      "needs_background": "light"
     },
     "output_type": "display_data"
    }
   ],
   "source": [
    "grouped = data.groupby('subject')\n",
    "extreme_resp = grouped.extreme_responses.mean() >= 150\n",
    "extreme_resp = np.array(extreme_resp[extreme_resp].reset_index().subject)\n",
    "print('EXCLUDED: %i' % len(extreme_resp))\n",
    "print(extreme_resp)\n",
    "\n",
    "plt.scatter(data.subject, data.extreme_responses, c='k', label='Included')\n",
    "plt.axhline(150, c='k', ls='--')\n",
    "plt.ylim(-1, 181)\n",
    "plt.ylabel('Extreme Responses')\n",
    "plt.xlabel('Subject ID')\n",
    "plt.tight_layout()\n",
    "\n",
    "# Drop excluded subjects before proceeding\n",
    "data = data[~np.isin(data.subject, extreme_resp)]"
   ]
  },
  {
   "cell_type": "markdown",
   "metadata": {},
   "source": [
    "# Outlier Response Check\n",
    "Exclude participants whose responses were correlated r < .5 with the log of IOI."
   ]
  },
  {
   "cell_type": "code",
   "execution_count": 5,
   "metadata": {},
   "outputs": [
    {
     "name": "stdout",
     "output_type": "stream",
     "text": [
      "EXCLUDED: 1\n",
      "[5]\n"
     ]
    },
    {
     "data": {
      "image/png": "[encoded data removed]",
      "text/plain": [
       "<Figure size 432x288 with 1 Axes>"
      ]
     },
     "metadata": {
      "needs_background": "light"
     },
     "output_type": "display_data"
    }
   ],
   "source": [
    "grouped = data.groupby('subject')\n",
    "outlier = grouped.pearsonr.mean() < .5\n",
    "outlier = np.array(outlier[outlier].reset_index().subject)\n",
    "print('EXCLUDED: %i' % len(outlier))\n",
    "print(outlier)\n",
    "\n",
    "plt.scatter(data.subject, data.pearsonr, c='k')\n",
    "plt.axhline(.5, c='k', ls='--')\n",
    "plt.ylim(-1, 1)\n",
    "plt.ylabel('Pearson $r$')\n",
    "plt.xlabel('Subject ID')\n",
    "plt.tight_layout()\n",
    "\n",
    "# Drop excluded subjects before proceeding\n",
    "data = data[~np.isin(data.subject, outlier)]"
   ]
  },
  {
   "cell_type": "markdown",
   "metadata": {},
   "source": [
    "# Save Exclusion"
   ]
  },
  {
   "cell_type": "code",
   "execution_count": 6,
   "metadata": {},
   "outputs": [],
   "source": [
    "excluded = np.union1d(np.union1d(failed_test, extreme_resp), outlier)\n",
    "included = data.subject.unique()\n",
    "np.savetxt(OUTFILE, excluded, fmt='%i')"
   ]
  },
  {
   "cell_type": "code",
   "execution_count": 7,
   "metadata": {},
   "outputs": [
    {
     "name": "stdout",
     "output_type": "stream",
     "text": [
      "EXCLUSION LIST: [5, 10, 11, 14, 15, 18, 25, 34, 35, 38, 52, 59, 72, 75, 79, 82, 113, 114, 116, 121, 123]\n",
      "INCLUSION LIST: [3, 4, 6, 8, 12, 13, 16, 19, 21, 23, 24, 17, 27, 26, 28, 29, 30, 31, 33, 36, 37, 41, 45, 46, 47, 49, 48, 50, 51, 53, 57, 55, 58, 56, 60, 42, 44, 62, 67, 68, 74, 76, 77, 78, 80, 84, 83, 85, 87, 107, 109, 110, 111, 112, 115, 118, 119, 120, 122]\n",
      "TOTALS: 80 59\n",
      "CONDITIONS: 36 44 27 32\n"
     ]
    }
   ],
   "source": [
    "conditions = np.array([x[0] for x in all_data.groupby('subject').first_type.unique()])\n",
    "incl_conditions = np.array([x[0] for x in data.groupby('subject').first_type.unique()])\n",
    "\n",
    "print('EXCLUSION LIST:', excluded.tolist())\n",
    "print('INCLUSION LIST:', included.tolist())\n",
    "print('TOTALS:', len(excluded) + len(included), len(included))\n",
    "print('CONDITIONS:', np.sum(conditions == 'p'), np.sum(conditions == 'a'), np.sum(incl_conditions == 'p'), np.sum(incl_conditions == 'a'))"
   ]
  }
 ],
 "metadata": {
  "kernelspec": {
   "display_name": "Python 3 (ipykernel)",
   "language": "python",
   "name": "python3"
  },
  "language_info": {
   "codemirror_mode": {
    "name": "ipython",
    "version": 3
   },
   "file_extension": ".py",
   "mimetype": "text/x-python",
   "name": "python",
   "nbconvert_exporter": "python",
   "pygments_lexer": "ipython3",
   "version": "3.10.4"
  }
 },
 "nbformat": 4,
 "nbformat_minor": 4
}
