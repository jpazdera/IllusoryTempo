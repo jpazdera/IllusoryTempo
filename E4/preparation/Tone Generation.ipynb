{
 "cells": [
  {
   "cell_type": "code",
   "execution_count": null,
   "metadata": {},
   "outputs": [],
   "source": [
    "import numpy as np\n",
    "import librosa as lba\n",
    "import soundfile as sf\n",
    "import matplotlib.pyplot as plt\n",
    "from random import random"
   ]
  },
  {
   "cell_type": "code",
   "execution_count": null,
   "metadata": {},
   "outputs": [],
   "source": [
    "stimuli_folder = '../stimuli/'\n",
    "\n",
    "sr = 44100\n",
    "tone_duration = 200\n",
    "\n",
    "rise_duration = 5\n",
    "rise_length = int(rise_duration * sr / 1000)\n",
    "\n",
    "fade_duration = 25\n",
    "fade_length = int(fade_duration * sr / 1000)\n",
    "\n",
    "tones = {\n",
    "    'A7': 3520,\n",
    "    'A6': 1760,\n",
    "    'A5': 880,\n",
    "    'A4': 440,\n",
    "    'A3': 220,\n",
    "    'A2': 110,\n",
    "    'Ds5': 622.254\n",
    "}"
   ]
  },
  {
   "cell_type": "markdown",
   "metadata": {},
   "source": [
    "# Generate Tones"
   ]
  },
  {
   "cell_type": "code",
   "execution_count": null,
   "metadata": {},
   "outputs": [],
   "source": [
    "dur = tone_duration / 1000\n",
    "for pitch in tones:\n",
    "    f = tones[pitch]\n",
    "    \n",
    "    # Generate fundamental frequency (co)sine wave\n",
    "    phase = random() * 2 * np.pi\n",
    "    tone = lba.tone(f, sr=sr, duration=dur, phi=phase)\n",
    "    \n",
    "    # Add first three overtones with slope of -6 db (half amplitude) per octave\n",
    "    for i in range(3):\n",
    "        phase = random() * 2 * np.pi\n",
    "        tone += lba.tone(f * (i + 2), sr=sr, duration=dur, phi=phase) / (i + 2)\n",
    "    \n",
    "    # Rescale waveform to range [-1, 1] to prevent clipping\n",
    "    tone /= np.abs(tone).max()\n",
    "\n",
    "    # Apply linear fade to ending\n",
    "    tone[-fade_length:] *= np.linspace(1, 0, fade_length)\n",
    "    # Apply sharp linear rise to start of tone\n",
    "    tone[:rise_length] *= np.linspace(0, 1, rise_length)\n",
    "    \n",
    "    # Save tone\n",
    "    sf.write('../stimuli/tones/tone%s.wav' % pitch, tone, 44100)"
   ]
  },
  {
   "cell_type": "markdown",
   "metadata": {},
   "source": [
    "## (Balance tones in Audacity now, then return)"
   ]
  },
  {
   "cell_type": "markdown",
   "metadata": {},
   "source": [
    "# Generate Sequences"
   ]
  },
  {
   "cell_type": "code",
   "execution_count": null,
   "metadata": {},
   "outputs": [],
   "source": [
    "### Main Sequences ###\n",
    "\n",
    "octaves = [2, 3, 4, 5, 6, 7]\n",
    "iois = [1000, 918, 843,\n",
    "        774, 710, 652,\n",
    "        599, 550, 504,\n",
    "        463, 425, 390,\n",
    "        358, 329, 302]\n",
    "for tone_type in (('piano', 'p'), ('tone', 'a')):\n",
    "    for i, loudness in enumerate(('soft', 'normed', 'loud')):\n",
    "        for octave in octaves:\n",
    "            # Load tone of current octave\n",
    "            tone, sr = lba.load(stimuli_folder + 'tones/%sA%i-%s.wav' % (tone_type[0], octave, loudness), sr=None)\n",
    "            for ioi in iois:\n",
    "\n",
    "                # Create array of appropriate length to hold audio sequence\n",
    "                ms_ioi = ioi / 1000.\n",
    "                sequence = np.zeros(int(np.ceil(8 * ms_ioi * sr)), dtype=np.float32)\n",
    "\n",
    "                # Insert tones at appropriate locations\n",
    "                for j in range(5):\n",
    "                    tone_start = int(np.ceil(j * ms_ioi * sr))\n",
    "                    tone_end = tone_start + tone.shape[0]\n",
    "                    sequence[tone_start:tone_end] = tone\n",
    "\n",
    "                # Cut silence from the end of the sequence\n",
    "                sequence = np.trim_zeros(sequence, 'b')\n",
    "\n",
    "                # Save sequence to WAV file\n",
    "                outfile = stimuli_folder + 'sequence_%s_%i_%i_%i.wav' % (tone_type[1], octave, ioi, i)\n",
    "                sf.write(outfile, sequence, sr)"
   ]
  },
  {
   "cell_type": "code",
   "execution_count": null,
   "metadata": {},
   "outputs": [],
   "source": [
    "### Practice Trials ###\n",
    "for tone_type in (('piano', 'p'), ('tone', 'a')):\n",
    "    tone, sr = lba.load(stimuli_folder + 'tones/%sDs5-normed.wav' % tone_type[0], sr=None)\n",
    "    for ioi in (407, 550, 741):\n",
    "        # Create array of appropriate length to hold audio sequence\n",
    "        ms_ioi = ioi / 1000.\n",
    "        sequence = np.zeros(int(np.ceil(8 * ms_ioi * sr)), dtype=np.float32)\n",
    "\n",
    "        # Insert tones at appropriate locations\n",
    "        for i in range(5):\n",
    "            tone_start = int(np.ceil(i * ms_ioi * sr))\n",
    "            tone_end = tone_start + tone.shape[0]\n",
    "            sequence[tone_start:tone_end] = tone\n",
    "\n",
    "        # Cut silence from the end of the sequence\n",
    "        sequence = np.trim_zeros(sequence, 'b')\n",
    "\n",
    "        # Save sequence to WAV file\n",
    "        outfile = stimuli_folder + 'practice_sequence_%i%s.wav' % (ioi, tone_type[1])\n",
    "        sf.write(outfile, sequence, sr)"
   ]
  },
  {
   "cell_type": "code",
   "execution_count": null,
   "metadata": {},
   "outputs": [],
   "source": [
    "### Metronome ###\n",
    "tone, sr = lba.load(stimuli_folder + 'tones/tick.wav', sr=None)\n",
    "\n",
    "# Create array of appropriate length to hold audio sequence\n",
    "ioi = 550\n",
    "ms_ioi = ioi / 1000.\n",
    "sequence = np.zeros(int(np.ceil(8 * ms_ioi * sr)), dtype=np.float32)\n",
    "        \n",
    "# Insert tones at appropriate locations\n",
    "for i in range(5):\n",
    "    tone_start = int(np.ceil(i * ms_ioi * sr))\n",
    "    tone_end = tone_start + tone.shape[0]\n",
    "    sequence[tone_start:tone_end] = tone\n",
    "        \n",
    "# Cut silence from the end of the sequence\n",
    "sequence = np.trim_zeros(sequence, 'b')\n",
    "        \n",
    "# Save sequence to WAV file\n",
    "outfile = stimuli_folder + 'reference_sequence.wav'\n",
    "sf.write(outfile, sequence, sr)"
   ]
  },
  {
   "cell_type": "code",
   "execution_count": null,
   "metadata": {},
   "outputs": [],
   "source": []
  }
 ],
 "metadata": {
  "kernelspec": {
   "display_name": "Python 3",
   "language": "python",
   "name": "python3"
  },
  "language_info": {
   "codemirror_mode": {
    "name": "ipython",
    "version": 3
   },
   "file_extension": ".py",
   "mimetype": "text/x-python",
   "name": "python",
   "nbconvert_exporter": "python",
   "pygments_lexer": "ipython3",
   "version": "3.7.9"
  }
 },
 "nbformat": 4,
 "nbformat_minor": 4
}
